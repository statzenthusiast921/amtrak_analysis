{
 "cells": [
  {
   "cell_type": "code",
   "execution_count": 20,
   "id": "d7d63ead",
   "metadata": {},
   "outputs": [
    {
     "data": {
      "text/plain": [
       "(2716, 9)"
      ]
     },
     "execution_count": 20,
     "metadata": {},
     "output_type": "execute_result"
    }
   ],
   "source": [
    "import pandas as pd\n",
    "\n",
    "\n",
    "path = '/Users/jonzimmerman/Desktop/Data Projects/Amtrak/'\n",
    "amtrak_df = pd.read_csv(path + 'pcrd.csv')\n",
    "amtrak_df.shape"
   ]
  },
  {
   "cell_type": "code",
   "execution_count": 21,
   "id": "f9ec4655",
   "metadata": {
    "scrolled": true
   },
   "outputs": [
    {
     "data": {
      "text/html": [
       "<div>\n",
       "<style scoped>\n",
       "    .dataframe tbody tr th:only-of-type {\n",
       "        vertical-align: middle;\n",
       "    }\n",
       "\n",
       "    .dataframe tbody tr th {\n",
       "        vertical-align: top;\n",
       "    }\n",
       "\n",
       "    .dataframe thead th {\n",
       "        text-align: right;\n",
       "    }\n",
       "</style>\n",
       "<table border=\"1\" class=\"dataframe\">\n",
       "  <thead>\n",
       "    <tr style=\"text-align: right;\">\n",
       "      <th></th>\n",
       "      <th>URL</th>\n",
       "      <th>Ridership Numbers</th>\n",
       "      <th>Station</th>\n",
       "      <th>Year</th>\n",
       "      <th>Address</th>\n",
       "      <th>Station Name</th>\n",
       "      <th>Abbreviation</th>\n",
       "      <th>Check</th>\n",
       "      <th>State</th>\n",
       "    </tr>\n",
       "  </thead>\n",
       "  <tbody>\n",
       "    <tr>\n",
       "      <th>0</th>\n",
       "      <td>https://www.railpassengers.org/site/assets/fil...</td>\n",
       "      <td>37161.0</td>\n",
       "      <td>/site/assets/files/1679/abe.pdf</td>\n",
       "      <td>2016</td>\n",
       "      <td>18 E Bel Air Ave Aberdeen, MD 21001-3701</td>\n",
       "      <td>Aberdeen, MD</td>\n",
       "      <td>ABE</td>\n",
       "      <td>a</td>\n",
       "      <td>MD</td>\n",
       "    </tr>\n",
       "    <tr>\n",
       "      <th>1</th>\n",
       "      <td>https://www.railpassengers.org/site/assets/fil...</td>\n",
       "      <td>37045.0</td>\n",
       "      <td>/site/assets/files/1679/abe.pdf</td>\n",
       "      <td>2017</td>\n",
       "      <td>18 E Bel Air Ave Aberdeen, MD 21001-3701</td>\n",
       "      <td>Aberdeen, MD</td>\n",
       "      <td>ABE</td>\n",
       "      <td>a</td>\n",
       "      <td>MD</td>\n",
       "    </tr>\n",
       "    <tr>\n",
       "      <th>2</th>\n",
       "      <td>https://www.railpassengers.org/site/assets/fil...</td>\n",
       "      <td>37867.0</td>\n",
       "      <td>/site/assets/files/1679/abe.pdf</td>\n",
       "      <td>2018</td>\n",
       "      <td>18 E Bel Air Ave Aberdeen, MD 21001-3701</td>\n",
       "      <td>Aberdeen, MD</td>\n",
       "      <td>ABE</td>\n",
       "      <td>a</td>\n",
       "      <td>MD</td>\n",
       "    </tr>\n",
       "  </tbody>\n",
       "</table>\n",
       "</div>"
      ],
      "text/plain": [
       "                                                 URL  Ridership Numbers  \\\n",
       "0  https://www.railpassengers.org/site/assets/fil...            37161.0   \n",
       "1  https://www.railpassengers.org/site/assets/fil...            37045.0   \n",
       "2  https://www.railpassengers.org/site/assets/fil...            37867.0   \n",
       "\n",
       "                           Station  Year  \\\n",
       "0  /site/assets/files/1679/abe.pdf  2016   \n",
       "1  /site/assets/files/1679/abe.pdf  2017   \n",
       "2  /site/assets/files/1679/abe.pdf  2018   \n",
       "\n",
       "                                    Address  Station Name Abbreviation Check  \\\n",
       "0  18 E Bel Air Ave Aberdeen, MD 21001-3701  Aberdeen, MD          ABE     a   \n",
       "1  18 E Bel Air Ave Aberdeen, MD 21001-3701  Aberdeen, MD          ABE     a   \n",
       "2  18 E Bel Air Ave Aberdeen, MD 21001-3701  Aberdeen, MD          ABE     a   \n",
       "\n",
       "  State  \n",
       "0    MD  \n",
       "1    MD  \n",
       "2    MD  "
      ]
     },
     "execution_count": 21,
     "metadata": {},
     "output_type": "execute_result"
    }
   ],
   "source": [
    "amtrak_df.head(3)"
   ]
  },
  {
   "cell_type": "markdown",
   "id": "a404ec70",
   "metadata": {},
   "source": [
    "#### Clean up columns"
   ]
  },
  {
   "cell_type": "code",
   "execution_count": 22,
   "id": "f480eb0f",
   "metadata": {
    "scrolled": true
   },
   "outputs": [
    {
     "data": {
      "text/html": [
       "<div>\n",
       "<style scoped>\n",
       "    .dataframe tbody tr th:only-of-type {\n",
       "        vertical-align: middle;\n",
       "    }\n",
       "\n",
       "    .dataframe tbody tr th {\n",
       "        vertical-align: top;\n",
       "    }\n",
       "\n",
       "    .dataframe thead th {\n",
       "        text-align: right;\n",
       "    }\n",
       "</style>\n",
       "<table border=\"1\" class=\"dataframe\">\n",
       "  <thead>\n",
       "    <tr style=\"text-align: right;\">\n",
       "      <th></th>\n",
       "      <th>Ridership Numbers</th>\n",
       "      <th>Year</th>\n",
       "      <th>Address</th>\n",
       "      <th>Station Name</th>\n",
       "      <th>Abbreviation</th>\n",
       "      <th>State</th>\n",
       "    </tr>\n",
       "  </thead>\n",
       "  <tbody>\n",
       "    <tr>\n",
       "      <th>0</th>\n",
       "      <td>37161.0</td>\n",
       "      <td>2016</td>\n",
       "      <td>18 E Bel Air Ave Aberdeen, MD 21001-3701</td>\n",
       "      <td>Aberdeen, MD</td>\n",
       "      <td>ABE</td>\n",
       "      <td>MD</td>\n",
       "    </tr>\n",
       "    <tr>\n",
       "      <th>1</th>\n",
       "      <td>37045.0</td>\n",
       "      <td>2017</td>\n",
       "      <td>18 E Bel Air Ave Aberdeen, MD 21001-3701</td>\n",
       "      <td>Aberdeen, MD</td>\n",
       "      <td>ABE</td>\n",
       "      <td>MD</td>\n",
       "    </tr>\n",
       "    <tr>\n",
       "      <th>2</th>\n",
       "      <td>37867.0</td>\n",
       "      <td>2018</td>\n",
       "      <td>18 E Bel Air Ave Aberdeen, MD 21001-3701</td>\n",
       "      <td>Aberdeen, MD</td>\n",
       "      <td>ABE</td>\n",
       "      <td>MD</td>\n",
       "    </tr>\n",
       "  </tbody>\n",
       "</table>\n",
       "</div>"
      ],
      "text/plain": [
       "   Ridership Numbers  Year                                   Address  \\\n",
       "0            37161.0  2016  18 E Bel Air Ave Aberdeen, MD 21001-3701   \n",
       "1            37045.0  2017  18 E Bel Air Ave Aberdeen, MD 21001-3701   \n",
       "2            37867.0  2018  18 E Bel Air Ave Aberdeen, MD 21001-3701   \n",
       "\n",
       "   Station Name Abbreviation State  \n",
       "0  Aberdeen, MD          ABE    MD  \n",
       "1  Aberdeen, MD          ABE    MD  \n",
       "2  Aberdeen, MD          ABE    MD  "
      ]
     },
     "execution_count": 22,
     "metadata": {},
     "output_type": "execute_result"
    }
   ],
   "source": [
    "del amtrak_df['URL']\n",
    "del amtrak_df['Station']\n",
    "del amtrak_df['Check']\n",
    "amtrak_df.head(3)"
   ]
  },
  {
   "cell_type": "code",
   "execution_count": 23,
   "id": "69eb4ae4",
   "metadata": {},
   "outputs": [
    {
     "data": {
      "text/plain": [
       "Index(['rides', 'year', 'address', 'station_name', 'abbrev', 'state'], dtype='object')"
      ]
     },
     "execution_count": 23,
     "metadata": {},
     "output_type": "execute_result"
    }
   ],
   "source": [
    "amtrak_df =amtrak_df.rename(\n",
    "    columns={\n",
    "        'Ridership Numbers': 'rides', \n",
    "        'Year': 'year',\n",
    "        'Address': 'address',\n",
    "        'Station Name': 'station_name',\n",
    "        'Abbreviation': 'abbrev',\n",
    "        'State': 'state'\n",
    "    }\n",
    ")\n",
    "amtrak_df.columns"
   ]
  },
  {
   "cell_type": "code",
   "execution_count": 24,
   "id": "64fe5423",
   "metadata": {
    "scrolled": true
   },
   "outputs": [
    {
     "data": {
      "text/plain": [
       "rides           float64\n",
       "year              int64\n",
       "address          object\n",
       "station_name     object\n",
       "abbrev           object\n",
       "state            object\n",
       "dtype: object"
      ]
     },
     "execution_count": 24,
     "metadata": {},
     "output_type": "execute_result"
    }
   ],
   "source": [
    "amtrak_df.dtypes"
   ]
  },
  {
   "cell_type": "code",
   "execution_count": 26,
   "id": "a4ae29e7",
   "metadata": {},
   "outputs": [
    {
     "data": {
      "text/html": [
       "<div>\n",
       "<style scoped>\n",
       "    .dataframe tbody tr th:only-of-type {\n",
       "        vertical-align: middle;\n",
       "    }\n",
       "\n",
       "    .dataframe tbody tr th {\n",
       "        vertical-align: top;\n",
       "    }\n",
       "\n",
       "    .dataframe thead th {\n",
       "        text-align: right;\n",
       "    }\n",
       "</style>\n",
       "<table border=\"1\" class=\"dataframe\">\n",
       "  <thead>\n",
       "    <tr style=\"text-align: right;\">\n",
       "      <th></th>\n",
       "      <th>Year</th>\n",
       "      <th>Month</th>\n",
       "      <th>Rides</th>\n",
       "      <th>address</th>\n",
       "      <th>state</th>\n",
       "    </tr>\n",
       "  </thead>\n",
       "  <tbody>\n",
       "    <tr>\n",
       "      <th>0</th>\n",
       "      <td>2016</td>\n",
       "      <td>1</td>\n",
       "      <td>1486.44</td>\n",
       "      <td>18 E Bel Air Ave Aberdeen, MD 21001-3701</td>\n",
       "      <td>MD</td>\n",
       "    </tr>\n",
       "    <tr>\n",
       "      <th>1</th>\n",
       "      <td>2016</td>\n",
       "      <td>2</td>\n",
       "      <td>2229.66</td>\n",
       "      <td>18 E Bel Air Ave Aberdeen, MD 21001-3701</td>\n",
       "      <td>MD</td>\n",
       "    </tr>\n",
       "    <tr>\n",
       "      <th>2</th>\n",
       "      <td>2016</td>\n",
       "      <td>3</td>\n",
       "      <td>2601.27</td>\n",
       "      <td>18 E Bel Air Ave Aberdeen, MD 21001-3701</td>\n",
       "      <td>MD</td>\n",
       "    </tr>\n",
       "  </tbody>\n",
       "</table>\n",
       "</div>"
      ],
      "text/plain": [
       "   Year  Month    Rides                                   address state\n",
       "0  2016      1  1486.44  18 E Bel Air Ave Aberdeen, MD 21001-3701    MD\n",
       "1  2016      2  2229.66  18 E Bel Air Ave Aberdeen, MD 21001-3701    MD\n",
       "2  2016      3  2601.27  18 E Bel Air Ave Aberdeen, MD 21001-3701    MD"
      ]
     },
     "execution_count": 26,
     "metadata": {},
     "output_type": "execute_result"
    }
   ],
   "source": [
    "# Step 1: Define the seasonal proportions\n",
    "seasonal_proportions = [\n",
    "    0.04,  # January\n",
    "    0.06,  # February\n",
    "    0.07,  # March\n",
    "    0.09,  # April\n",
    "    0.11,  # May\n",
    "    0.11,  # June\n",
    "    0.12,  # July\n",
    "    0.10,  # August\n",
    "    0.07,  # September\n",
    "    0.06,  # October\n",
    "    0.08,  # November\n",
    "    0.09   # December\n",
    "]\n",
    "import pandas as pd\n",
    "\n",
    "# Ensure the proportions sum to 1\n",
    "assert sum(seasonal_proportions) == 1, \"Seasonal proportions must sum to 1.\"\n",
    "\n",
    "# Function to transform the dataset\n",
    "def yearly_to_monthly_seasonal(df, proportions):\n",
    "    # List to hold the monthly data\n",
    "    monthly_data = []\n",
    "\n",
    "    # Loop through each row in the original DataFrame\n",
    "    for _, row in df.iterrows():\n",
    "        year = row['year']\n",
    "        total = row['rides']\n",
    "        \n",
    "        # Create monthly rows for the current year based on proportions\n",
    "        for month, proportion in enumerate(proportions, start=1):\n",
    "            monthly_value = total * proportion\n",
    "            monthly_row = {\n",
    "                'Year': year,\n",
    "                'Month': month,\n",
    "                'Rides': monthly_value,\n",
    "                'address': row['address'],\n",
    "                'state': row['state']\n",
    "            }\n",
    "            monthly_data.append(monthly_row)\n",
    "    \n",
    "    # Create a DataFrame from the monthly data\n",
    "    return pd.DataFrame(monthly_data)\n",
    "\n",
    "# Transform the data\n",
    "monthly_df = yearly_to_monthly_seasonal(amtrak_df, seasonal_proportions)\n",
    "\n",
    "# Verify the results\n",
    "monthly_df.head(3)\n"
   ]
  },
  {
   "cell_type": "code",
   "execution_count": 27,
   "id": "0a5a739f",
   "metadata": {},
   "outputs": [
    {
     "data": {
      "text/plain": [
       "(32592, 5)"
      ]
     },
     "execution_count": 27,
     "metadata": {},
     "output_type": "execute_result"
    }
   ],
   "source": [
    "monthly_df.shape"
   ]
  },
  {
   "cell_type": "code",
   "execution_count": 28,
   "id": "de71bc6a",
   "metadata": {},
   "outputs": [
    {
     "data": {
      "text/plain": [
       "2716.0"
      ]
     },
     "execution_count": 28,
     "metadata": {},
     "output_type": "execute_result"
    }
   ],
   "source": [
    "32592/12"
   ]
  },
  {
   "cell_type": "code",
   "execution_count": null,
   "id": "b0db6083",
   "metadata": {},
   "outputs": [],
   "source": []
  }
 ],
 "metadata": {
  "kernelspec": {
   "display_name": "Python 3 (ipykernel)",
   "language": "python",
   "name": "python3"
  },
  "language_info": {
   "codemirror_mode": {
    "name": "ipython",
    "version": 3
   },
   "file_extension": ".py",
   "mimetype": "text/x-python",
   "name": "python",
   "nbconvert_exporter": "python",
   "pygments_lexer": "ipython3",
   "version": "3.9.13"
  }
 },
 "nbformat": 4,
 "nbformat_minor": 5
}
