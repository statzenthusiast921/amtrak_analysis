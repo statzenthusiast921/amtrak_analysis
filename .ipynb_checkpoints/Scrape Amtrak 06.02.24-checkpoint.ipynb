{
 "cells": [
  {
   "cell_type": "code",
   "execution_count": 1,
   "id": "f861bca7",
   "metadata": {},
   "outputs": [
    {
     "data": {
      "text/plain": [
       "<Response [200]>"
      ]
     },
     "execution_count": 1,
     "metadata": {},
     "output_type": "execute_result"
    }
   ],
   "source": [
    "import requests\n",
    "from bs4 import BeautifulSoup\n",
    "import pandas as pd\n",
    "import fitz \n",
    "\n",
    "url = 'https://www.railpassengers.org/resources/ridership-statistics/'\n",
    "url_abe = 'https://www.railpassengers.org/site/assets/files/1679/abe.pdf'\n",
    "page = requests.get(url_abe)\n",
    "page"
   ]
  },
  {
   "cell_type": "code",
   "execution_count": 2,
   "id": "ff44c9d6",
   "metadata": {},
   "outputs": [],
   "source": [
    "# Save the PDF file locally\n",
    "pdf_path = 'abe.pdf'\n",
    "with open(pdf_path, 'wb') as file:\n",
    "    file.write(page.content)\n",
    "    \n",
    "# Step 2: Extract text from the PDF file\n",
    "def extract_text_from_pdf(pdf_path):\n",
    "    # Open the PDF file\n",
    "    document = fitz.open(pdf_path)\n",
    "    \n",
    "    # Iterate through each page and extract text\n",
    "    text = ''\n",
    "    for page_num in range(len(document)):\n",
    "        page = document.load_page(page_num)\n",
    "        text += page.get_text()\n",
    "    \n",
    "    return text\n",
    "\n",
    "# Get the extracted text\n",
    "pdf_text = extract_text_from_pdf(pdf_path)"
   ]
  },
  {
   "cell_type": "markdown",
   "id": "30715a96",
   "metadata": {},
   "source": [
    "#### Grab all the PDF links"
   ]
  },
  {
   "cell_type": "code",
   "execution_count": 3,
   "id": "1b2d68ac",
   "metadata": {},
   "outputs": [
    {
     "name": "stdout",
     "output_type": "stream",
     "text": [
      "<Response [200]>\n"
     ]
    }
   ],
   "source": [
    "import requests\n",
    "from bs4 import BeautifulSoup\n",
    "\n",
    "# URL of the webpage to scrape\n",
    "url = \"https://www.railpassengers.org/resources/ridership-statistics/\"\n",
    "\n",
    "# Send a GET request to the URL\n",
    "response = requests.get(url)\n",
    "\n",
    "# Check response\n",
    "print(response)"
   ]
  },
  {
   "cell_type": "code",
   "execution_count": 4,
   "id": "49cfb3d5",
   "metadata": {
    "scrolled": true
   },
   "outputs": [
    {
     "name": "stdout",
     "output_type": "stream",
     "text": [
      "['', '/site/assets/files/1174/al.pdf', '/site/assets/files/1176/az.pdf', '/site/assets/files/1177/ar.pdf', '/site/assets/files/1178/ca.pdf', '/site/assets/files/1179/co.pdf', '/site/assets/files/1180/ct.pdf', '/site/assets/files/1181/de.pdf', '/site/assets/files/1182/fl.pdf', '/site/assets/files/1183/ga.pdf', '/site/assets/files/1185/id.pdf', '/site/assets/files/1186/il.pdf', '/site/assets/files/1187/in.pdf', '/site/assets/files/1188/ia.pdf', '/site/assets/files/1189/ks.pdf', '/site/assets/files/1190/ky.pdf', '/site/assets/files/1191/la.pdf', '/site/assets/files/1192/me.pdf', '/site/assets/files/1193/md.pdf', '/site/assets/files/1194/ma.pdf', '/site/assets/files/1195/mi.pdf', '/site/assets/files/1196/mn.pdf', '/site/assets/files/1197/ms.pdf', '/site/assets/files/1198/mo.pdf', '/site/assets/files/1199/mt.pdf', '/site/assets/files/1200/ne.pdf', '/site/assets/files/1201/nv.pdf', '/site/assets/files/1202/nh.pdf', '/site/assets/files/1203/nj.pdf', '/site/assets/files/1204/nm.pdf', '/site/assets/files/1205/ny.pdf', '/site/assets/files/1206/nc.pdf', '/site/assets/files/1207/nd.pdf', '/site/assets/files/1208/oh.pdf', '/site/assets/files/1209/ok.pdf', '/site/assets/files/1210/or.pdf', '/site/assets/files/1211/pa.pdf', '/site/assets/files/1212/ri.pdf', '/site/assets/files/1213/sc.pdf', '/site/assets/files/1214/sd.pdf', '/site/assets/files/1215/tn.pdf', '/site/assets/files/1216/tx.pdf', '/site/assets/files/1217/ut.pdf', '/site/assets/files/1218/vt.pdf', '/site/assets/files/1219/va.pdf', '/site/assets/files/1220/wa.pdf', '/site/assets/files/1221/wv.pdf', '/site/assets/files/1222/wi.pdf', '/site/assets/files/1223/wy.pdf', '', '/site/assets/files/1679/abe.pdf', '/site/assets/files/1684/aly.pdf', '/site/assets/files/1685/alb.pdf', '/site/assets/files/1686/ali.pdf', '/site/assets/files/1687/abq.pdf', '/site/assets/files/1689/ald.pdf', '/site/assets/files/1690/alx.pdf', '/site/assets/files/1691/alc.pdf', '/site/assets/files/1693/alp.pdf', '/site/assets/files/1694/aln.pdf', '/site/assets/files/1695/alt.pdf', '/site/assets/files/5017/amm.pdf', '/site/assets/files/1696/ams.pdf', '/site/assets/files/1697/ana.pdf', '/site/assets/files/1698/arb.pdf', '/site/assets/files/1699/atn.pdf', '/site/assets/files/1700/aca.pdf', '/site/assets/files/6876/acd.pdf', '/site/assets/files/1704/ard.pdf', '/site/assets/files/1703/adm.pdf', '/site/assets/files/1705/ark.pdf', '/site/assets/files/1708/asd.pdf', '/site/assets/files/1706/aky.pdf', '/site/assets/files/1712/atl.pdf', '/site/assets/files/5016/atr.pdf', '/site/assets/files/1714/arn.pdf', '/site/assets/files/1716/aus.pdf', '/site/assets/files/6875/axp.pdf', '/site/assets/files/1718/bfd.pdf', '/site/assets/files/1720/bwi.pdf', '/site/assets/files/1719/bal.pdf', '/site/assets/files/1723/bam.pdf', '/site/assets/files/1724/bar.pdf', '/site/assets/files/1728/btl.pdf', '/site/assets/files/5015/bas.pdf', '/site/assets/files/1730/bmt.pdf', '/site/assets/files/1734/bel.pdf', '/site/assets/files/1735/blf.pdf', '/site/assets/files/1738/ben.pdf', '/site/assets/files/1739/bky.pdf', '/site/assets/files/1740/ber.pdf', '/site/assets/files/5014/bix.pdf', '/site/assets/files/1746/bng.pdf', '/site/assets/files/1747/bhm.pdf', '/site/assets/files/1749/bnl.pdf', '/site/assets/files/1751/bby.pdf', '/site/assets/files/1752/bon.pdf', '/site/assets/files/1754/rte.pdf', '/site/assets/files/1753/bos.pdf', '/site/assets/files/1756/bra.pdf', '/site/assets/files/1759/brp.pdf', '/site/assets/files/1760/brh.pdf', '/site/assets/files/1762/bro.pdf', '/site/assets/files/1763/brk.pdf', '/site/assets/files/1764/byn.pdf', '/site/assets/files/1769/buf.pdf', '/site/assets/files/1768/bfx.pdf', '/site/assets/files/1770/bur.pdf', '/site/assets/files/33734/bbk.pdf', '/site/assets/files/1771/bcv.pdf', '/site/assets/files/1776/esx.pdf', '/site/assets/files/1773/bnc.pdf', '/site/assets/files/1772/brl.pdf', '/site/assets/files/33733/btn.pdf', '/site/assets/files/1781/cml.pdf', '/site/assets/files/1784/cam.pdf', '/site/assets/files/1788/cdl.pdf', '/site/assets/files/1789/crv.pdf', '/site/assets/files/1791/poi.pdf', '/site/assets/files/1790/cbv.pdf', '/site/assets/files/1793/cpn.pdf', '/site/assets/files/1794/cyn.pdf', '/site/assets/files/1796/cnv.pdf', '/site/assets/files/1799/ctl.pdf', '/site/assets/files/1798/cen.pdf', '/site/assets/files/1800/chm.pdf', '/site/assets/files/1802/chw.pdf', '/site/assets/files/1801/chs.pdf', '/site/assets/files/1804/clt.pdf', '/site/assets/files/1805/cvs.pdf', '/site/assets/files/1806/cwt.pdf', '/site/assets/files/1808/cmo.pdf', '/site/assets/files/1811/chi.pdf', '/site/assets/files/1812/cic.pdf', '/site/assets/files/5013/cip.pdf', '/site/assets/files/1816/cin.pdf', '/site/assets/files/1818/cla.pdf', '/site/assets/files/1820/cbr.pdf', '/site/assets/files/1821/csn.pdf', '/site/assets/files/1822/cle.pdf', '/site/assets/files/1823/clf.pdf', '/site/assets/files/1825/cot.pdf', '/site/assets/files/1826/cox.pdf', '/site/assets/files/1829/clb.pdf', '/site/assets/files/1831/cbs.pdf', '/site/assets/files/1834/cov.pdf', '/site/assets/files/1835/coi.pdf', '/site/assets/files/1839/coc.pdf', '/site/assets/files/1840/cwh.pdf', '/site/assets/files/1844/crf.pdf', '/site/assets/files/1846/crn.pdf', '/site/assets/files/5012/csv.pdf', '/site/assets/files/1847/crt.pdf', '/site/assets/files/1848/clp.pdf', '/site/assets/files/1850/cum.pdf', '/site/assets/files/1851/cut.pdf', '/site/assets/files/1856/dal.pdf', '/site/assets/files/1859/dan.pdf', '/site/assets/files/1861/dav.pdf', '/site/assets/files/1863/der.pdf', '/site/assets/files/1865/dfb.pdf', '/site/assets/files/1866/drt.pdf', '/site/assets/files/1867/dld.pdf', '/site/assets/files/1868/dlb.pdf', '/site/assets/files/1869/dem.pdf', '/site/assets/files/1893/trk.pdf', '/site/assets/files/1870/dnk.pdf', '/site/assets/files/1872/den.pdf', '/site/assets/files/1873/det.pdf', '/site/assets/files/1874/dlk.pdf', '/site/assets/files/1875/dvl.pdf', '/site/assets/files/1876/dil.pdf', '/site/assets/files/1877/ddg.pdf', '/site/assets/files/1879/dov.pdf', '/site/assets/files/1880/doa.pdf', '/site/assets/files/1881/dow.pdf', '/site/assets/files/1882/dqn.pdf', '/site/assets/files/1887/dun.pdf', '/site/assets/files/1888/drd.pdf', '/site/assets/files/1890/dhm.pdf', '/site/assets/files/1889/dnc.pdf', '/site/assets/files/1891/dwt.pdf', '/site/assets/files/1892/dye.pdf', '/site/assets/files/1894/gpk.pdf', '/site/assets/files/1895/lns.pdf', '/site/assets/files/1899/edm.pdf', '/site/assets/files/1900/efg.pdf', '/site/assets/files/1903/elp.pdf', '/site/assets/files/1906/elt.pdf', '/site/assets/files/1908/ekh.pdf', '/site/assets/files/1909/elk.pdf', '/site/assets/files/1911/ely.pdf', '/site/assets/files/1912/emy.pdf', '/site/assets/files/1913/enc.pdf', '/site/assets/files/1914/eph.pdf', '/site/assets/files/1916/eri.pdf', '/site/assets/files/1918/esm.pdf', '/site/assets/files/1921/eug.pdf', '/site/assets/files/1925/evr.pdf', '/site/assets/files/1926/exr.pdf', '/site/assets/files/1927/ext.pdf', '/site/assets/files/8184/ffv.pdf', '/site/assets/files/33732/fal.pdf', '/site/assets/files/1928/far.pdf', '/site/assets/files/1929/fay.pdf', '/site/assets/files/1932/flg.pdf', '/site/assets/files/1933/fln.pdf', '/site/assets/files/1935/flo.pdf', '/site/assets/files/1937/fed.pdf', '/site/assets/files/1939/ftl.pdf', '/site/assets/files/1940/fmd.pdf', '/site/assets/files/1941/fmg.pdf', '/site/assets/files/1943/ftw.pdf', '/site/assets/files/1946/fra.pdf', '/site/assets/files/1947/wip.pdf', '/site/assets/files/1950/fbg.pdf', '/site/assets/files/1952/fre.pdf', '/site/assets/files/1953/fmt.pdf', '/site/assets/files/1955/fno.pdf', '/site/assets/files/1958/ful.pdf', '/site/assets/files/1959/ftn.pdf', '/site/assets/files/1962/gns.pdf', '/site/assets/files/1963/gle.pdf', '/site/assets/files/1964/gbb.pdf', '/site/assets/files/1965/glp.pdf', '/site/assets/files/1968/gck.pdf', '/site/assets/files/1970/gas.pdf', '/site/assets/files/1972/glm.pdf', '/site/assets/files/1974/ggw.pdf', '/site/assets/files/1975/gdl.pdf', '/site/assets/files/1977/gln.pdf', '/site/assets/files/1978/gsc.pdf', '/site/assets/files/1982/gta.pdf', '/site/assets/files/1984/gra.pdf', '/site/assets/files/1987/gfk.pdf', '/site/assets/files/1988/gjt.pdf', '/site/assets/files/1989/grr.pdf', '/site/assets/files/1995/gri.pdf', '/site/assets/files/1996/gfd.pdf', '/site/assets/files/1998/gro.pdf', '/site/assets/files/1999/gnb.pdf', '/site/assets/files/2001/grv.pdf', '/site/assets/files/2002/gwd.pdf', '/site/assets/files/2005/gvb.pdf', '/site/assets/files/2006/gua.pdf', '/site/assets/files/5011/guf.pdf', '/site/assets/files/5010/gut.pdf', '/site/assets/files/2011/ham.pdf', '/site/assets/files/2012/hmd.pdf', '/site/assets/files/2013/hmi.pdf', '/site/assets/files/2017/hnf.pdf', '/site/assets/files/2018/hfy.pdf', '/site/assets/files/2019/har.pdf', '/site/assets/files/2020/hfd.pdf', '/site/assets/files/2021/has.pdf', '/site/assets/files/2023/hbg.pdf', '/site/assets/files/2026/hhl.pdf', '/site/assets/files/2027/hav.pdf', '/site/assets/files/2028/hay.pdf', '/site/assets/files/2029/haz.pdf', '/site/assets/files/2031/her.pdf', '/site/assets/files/2034/hem.pdf', '/site/assets/files/2035/hpt.pdf', '/site/assets/files/2037/hin.pdf', '/site/assets/files/2038/hld.pdf', '/site/assets/files/2039/hom.pdf', '/site/assets/files/2040/hol.pdf', '/site/assets/files/5009/hlk.pdf', '/site/assets/files/2041/hmw.pdf', '/site/assets/files/2043/hop.pdf', '/site/assets/files/2047/hos.pdf', '/site/assets/files/2049/hud.pdf', '/site/assets/files/2051/hgd.pdf', '/site/assets/files/2052/hun.pdf', '/site/assets/files/2053/hut.pdf', '/site/assets/files/2054/idp.pdf', '/site/assets/files/2055/ind.pdf', '/site/assets/files/2057/irv.pdf', '/site/assets/files/2058/met.pdf', '/site/assets/files/2060/jxn.pdf', '/site/assets/files/2061/jan.pdf', '/site/assets/files/2062/jax.pdf', '/site/assets/files/2066/jef.pdf', '/site/assets/files/2067/jsp.pdf', '/site/assets/files/2068/jst.pdf', '/site/assets/files/2069/jol.pdf', '/site/assets/files/2071/kal.pdf', '/site/assets/files/2073/kki.pdf', '/site/assets/files/2074/kan.pdf', '/site/assets/files/2075/kcy.pdf', '/site/assets/files/2077/kel.pdf', '/site/assets/files/2080/kee.pdf', '/site/assets/files/2084/kng.pdf', '/site/assets/files/2086/kin.pdf', '/site/assets/files/2087/ktr.pdf', '/site/assets/files/2089/kwd.pdf', '/site/assets/files/2090/kis.pdf', '/site/assets/files/2091/kfs.pdf', '/site/assets/files/2096/lse.pdf', '/site/assets/files/2098/lag.pdf', '/site/assets/files/2099/laj.pdf', '/site/assets/files/2101/lap.pdf', '/site/assets/files/2160/olw.pdf', '/site/assets/files/2104/laf.pdf', '/site/assets/files/2105/lft.pdf', '/site/assets/files/5008/lnl.pdf', '/site/assets/files/2106/lch.pdf', '/site/assets/files/5006/lec.pdf', '/site/assets/files/2109/lak.pdf', '/site/assets/files/2111/lmr.pdf', '/site/assets/files/2112/lmy.pdf', '/site/assets/files/2114/lnc.pdf', '/site/assets/files/2116/lpe.pdf', '/site/assets/files/2118/lsv.pdf', '/site/assets/files/2123/lab.pdf', '/site/assets/files/2125/lau.pdf', '/site/assets/files/2126/lrc.pdf', '/site/assets/files/2129/lwa.pdf', '/site/assets/files/2131/lee.pdf', '/site/assets/files/2136/lew.pdf', '/site/assets/files/5007/lex.pdf', '/site/assets/files/2137/lib.pdf', '/site/assets/files/2138/lcn.pdf', '/site/assets/files/2139/lnk.pdf', '/site/assets/files/2143/lrk.pdf', '/site/assets/files/2149/lod.pdf', '/site/assets/files/2161/lps.pdf', '/site/assets/files/2152/lvw.pdf', '/site/assets/files/2154/ldb.pdf', '/site/assets/files/2155/lor.pdf', '/site/assets/files/2156/lax.pdf', '/site/assets/files/2159/lyh.pdf', '/site/assets/files/2164/mac.pdf', '/site/assets/files/2165/mdr.pdf', '/site/assets/files/5005/mdo.pdf', '/site/assets/files/2169/mal.pdf', '/site/assets/files/2170/mvn.pdf', '/site/assets/files/2172/mss.pdf', '/site/assets/files/2177/mrc.pdf', '/site/assets/files/8183/mks.pdf', '/site/assets/files/2184/mhl.pdf', '/site/assets/files/2185/mtz.pdf', '/site/assets/files/2186/mrb.pdf', '/site/assets/files/2188/mat.pdf', '/site/assets/files/2189/may.pdf', '/site/assets/files/2191/mcb.pdf', '/site/assets/files/2192/mck.pdf', '/site/assets/files/2193/mcg.pdf', '/site/assets/files/2196/mem.pdf', '/site/assets/files/2197/mdt.pdf', '/site/assets/files/2199/mcd.pdf', '/site/assets/files/2200/mdn.pdf', '/site/assets/files/2201/mei.pdf', '/site/assets/files/2205/mia.pdf', '/site/assets/files/2206/mci.pdf', '/site/assets/files/33731/mby.pdf', '/site/assets/files/2207/mid.pdf', '/site/assets/files/2211/mke.pdf', '/site/assets/files/2210/mka.pdf', '/site/assets/files/2212/min.pdf', '/site/assets/files/2243/msp.pdf', '/site/assets/files/2213/mot.pdf', '/site/assets/files/5004/moe.pdf', '/site/assets/files/2217/mod.pdf', '/site/assets/files/2228/mng.pdf', '/site/assets/files/2229/mpr.pdf', '/site/assets/files/2231/mpk.pdf', '/site/assets/files/2237/mjy.pdf', '/site/assets/files/2238/mtp.pdf', '/site/assets/files/2239/mvw.pdf', '/site/assets/files/2242/mys.pdf', '/site/assets/files/2248/npv.pdf', '/site/assets/files/5003/nsf.pdf', '/site/assets/files/2252/ndl.pdf', '/site/assets/files/2254/nbk.pdf', '/site/assets/files/2255/nbu.pdf', '/site/assets/files/2256/ncr.pdf', '/site/assets/files/2257/nhv.pdf', '/site/assets/files/2258/nib.pdf', '/site/assets/files/2259/nlc.pdf', '/site/assets/files/2260/nol.pdf', '/site/assets/files/2261/nro.pdf', '/site/assets/files/2262/nyp.pdf', '/site/assets/files/2263/nrk.pdf', '/site/assets/files/2265/nwk.pdf', '/site/assets/files/2264/ewr.pdf', '/site/assets/files/2266/nbn.pdf', '/site/assets/files/2269/npn.pdf', '/site/assets/files/2270/new.pdf', '/site/assets/files/2271/nfl.pdf', '/site/assets/files/2273/nls.pdf', '/site/assets/files/2274/nfk.pdf', '/site/assets/files/2275/nor.pdf', '/site/assets/files/2279/psn.pdf', '/site/assets/files/2277/phn.pdf', '/site/assets/files/2278/nht.pdf', '/site/assets/files/33730/nrg.pdf', '/site/assets/files/5002/nyf.pdf', '/site/assets/files/2281/oac.pdf', '/site/assets/files/2282/okj.pdf', '/site/assets/files/2286/osd.pdf', '/site/assets/files/2290/oke.pdf', '/site/assets/files/2291/okc.pdf', '/site/assets/files/2292/orb.pdf', '/site/assets/files/2293/osb.pdf', '/site/assets/files/2309/olt.pdf', '/site/assets/files/2295/oma.pdf', '/site/assets/files/2297/ona.pdf', '/site/assets/files/5001/oge.pdf', '/site/assets/files/2299/orc.pdf', '/site/assets/files/6874/osf.pdf', '/site/assets/files/2300/orl.pdf', '/site/assets/files/2303/osc.pdf', '/site/assets/files/2306/otm.pdf', '/site/assets/files/2308/oxn.pdf', '/site/assets/files/2313/pak.pdf', '/site/assets/files/2319/pao.pdf', '/site/assets/files/2320/par.pdf', '/site/assets/files/5000/pag.pdf', '/site/assets/files/2322/psc.pdf', '/site/assets/files/2323/prb.pdf', '/site/assets/files/2325/pvl.pdf', '/site/assets/files/4999/pns.pdf', '/site/assets/files/2333/ptb.pdf', '/site/assets/files/2335/phl.pdf', '/site/assets/files/2339/pic.pdf', '/site/assets/files/2341/pgh.pdf', '/site/assets/files/2342/pit.pdf', '/site/assets/files/2344/plo.pdf', '/site/assets/files/2345/plb.pdf', '/site/assets/files/2348/pos.pdf', '/site/assets/files/2350/pon.pdf', '/site/assets/files/2351/pnt.pdf', '/site/assets/files/2352/pbf.pdf', '/site/assets/files/2354/poh.pdf', '/site/assets/files/2355/pth.pdf', '/site/assets/files/2356/prk.pdf', '/site/assets/files/2357/pog.pdf', '/site/assets/files/2358/por.pdf', '/site/assets/files/2360/pdx.pdf', '/site/assets/files/2362/pou.pdf', '/site/assets/files/2364/prc.pdf', '/site/assets/files/2365/pct.pdf', '/site/assets/files/2366/pjc.pdf', '/site/assets/files/2367/pvd.pdf', '/site/assets/files/2368/pro.pdf', '/site/assets/files/2372/pur.pdf', '/site/assets/files/2374/qan.pdf', '/site/assets/files/2375/qcy.pdf', '/site/assets/files/2379/rgh.pdf', '/site/assets/files/2380/rph.pdf', '/site/assets/files/2381/rtl.pdf', '/site/assets/files/2382/rat.pdf', '/site/assets/files/2384/rdw.pdf', '/site/assets/files/2385/rdd.pdf', '/site/assets/files/2390/rno.pdf', '/site/assets/files/2391/ren.pdf', '/site/assets/files/2392/rhi.pdf', '/site/assets/files/2394/ric.pdf', '/site/assets/files/2395/rvm.pdf', '/site/assets/files/2396/rvr.pdf', '/site/assets/files/2400/riv.pdf', '/site/assets/files/2401/rnk.pdf', '/site/assets/files/2402/roc.pdf', '/site/assets/files/2407/rln.pdf', '/site/assets/files/2408/rkv.pdf', '/site/assets/files/2409/rmt.pdf', '/site/assets/files/2411/rom.pdf', '/site/assets/files/2412/rsv.pdf', '/site/assets/files/2413/rsp.pdf', '/site/assets/files/2414/roy.pdf', '/site/assets/files/2415/rug.pdf', '/site/assets/files/2416/rud.pdf', '/site/assets/files/2420/sao.pdf', '/site/assets/files/2421/sac.pdf', '/site/assets/files/2424/slm.pdf', '/site/assets/files/2426/sns.pdf', '/site/assets/files/2429/sal.pdf', '/site/assets/files/2431/slc.pdf', '/site/assets/files/2432/sas.pdf', '/site/assets/files/2433/snb.pdf', '/site/assets/files/2434/snp.pdf', '/site/assets/files/2436/san.pdf', '/site/assets/files/2437/srb.pdf', '/site/assets/files/2445/sjc.pdf', '/site/assets/files/2446/snc.pdf', '/site/assets/files/2447/slo.pdf', '/site/assets/files/2449/smc.pdf', '/site/assets/files/2452/snd.pdf', '/site/assets/files/2453/spt.pdf', '/site/assets/files/2454/sky.pdf', '/site/assets/files/2455/sfa.pdf', '/site/assets/files/2456/sna.pdf', '/site/assets/files/2457/sba.pdf', '/site/assets/files/2459/scc.pdf', '/site/assets/files/2458/gac.pdf', '/site/assets/files/2467/sar.pdf', '/site/assets/files/2469/sav.pdf', '/site/assets/files/2470/sdy.pdf', '/site/assets/files/2471/sch.pdf', '/site/assets/files/2477/sea.pdf', '/site/assets/files/2479/sbg.pdf', '/site/assets/files/2480/sed.pdf', '/site/assets/files/2483/ssm.pdf', '/site/assets/files/2487/sby.pdf', '/site/assets/files/2491/sim.pdf', '/site/assets/files/2495/sdl.pdf', '/site/assets/files/2497/sol.pdf', '/site/assets/files/2500/sob.pdf', '/site/assets/files/2502/spm.pdf', '/site/assets/files/2504/sop.pdf', '/site/assets/files/2506/spb.pdf', '/site/assets/files/2507/spk.pdf', '/site/assets/files/2508/spi.pdf', '/site/assets/files/2509/spg.pdf', '/site/assets/files/2511/sab.pdf', '/site/assets/files/2513/scd.pdf', '/site/assets/files/2516/sjm.pdf', '/site/assets/files/2518/stl.pdf', '/site/assets/files/2521/stm.pdf', '/site/assets/files/2522/stn.pdf', '/site/assets/files/2524/stw.pdf', '/site/assets/files/2525/spl.pdf', '/site/assets/files/8182/sts.pdf', '/site/assets/files/2528/sta.pdf', '/site/assets/files/2532/skn.pdf', '/site/assets/files/2533/skt.pdf', '/site/assets/files/2534/svt.pdf', '/site/assets/files/2535/sui.pdf', '/site/assets/files/2536/smt.pdf', '/site/assets/files/2541/syr.pdf', '/site/assets/files/2542/tac.pdf', '/site/assets/files/4997/tlh.pdf', '/site/assets/files/2543/tpa.pdf', '/site/assets/files/2545/tay.pdf', '/site/assets/files/2547/tpl.pdf', '/site/assets/files/2548/txa.pdf', '/site/assets/files/8181/tmv.pdf', '/site/assets/files/2551/thn.pdf', '/site/assets/files/2552/ftc.pdf', '/site/assets/files/2554/tca.pdf', '/site/assets/files/2555/tol.pdf', '/site/assets/files/2557/toh.pdf', '/site/assets/files/2558/top.pdf', '/site/assets/files/2564/tre.pdf', '/site/assets/files/2565/tri.pdf', '/site/assets/files/2566/trm.pdf', '/site/assets/files/2567/tru.pdf', '/site/assets/files/2568/tus.pdf', '/site/assets/files/2569/tuk.pdf', '/site/assets/files/2572/tcl.pdf', '/site/assets/files/2575/tyr.pdf', '/site/assets/files/2578/uca.pdf', '/site/assets/files/2583/vnc.pdf', '/site/assets/files/2585/van.pdf', '/site/assets/files/2586/vec.pdf', '/site/assets/files/33729/vrn.pdf', '/site/assets/files/2591/vrv.pdf', '/site/assets/files/2602/wfd.pdf', '/site/assets/files/2603/wnr.pdf', '/site/assets/files/2604/war.pdf', '/site/assets/files/2606/wac.pdf', '/site/assets/files/2608/wah.pdf', '/site/assets/files/2607/was.pdf', '/site/assets/files/2609/wab.pdf', '/site/assets/files/2610/wti.pdf', '/site/assets/files/2615/wem.pdf', '/site/assets/files/2616/wen.pdf', '/site/assets/files/2617/wgl.pdf', '/site/assets/files/2618/wpb.pdf', '/site/assets/files/2621/wly.pdf', '/site/assets/files/2623/wsp.pdf', '/site/assets/files/2627/wrj.pdf', '/site/assets/files/2628/wss.pdf', '/site/assets/files/2629/wfh.pdf', '/site/assets/files/2630/whl.pdf', '/site/assets/files/2634/wmj.pdf', '/site/assets/files/2635/wbg.pdf', '/site/assets/files/2636/wtn.pdf', '/site/assets/files/2638/wil.pdf', '/site/assets/files/2640/wln.pdf', '/site/assets/files/2641/wnd.pdf', '/site/assets/files/2642/wnm.pdf', '/site/assets/files/2643/wnl.pdf', '/site/assets/files/2644/wnn.pdf', '/site/assets/files/2645/win.pdf', '/site/assets/files/2646/wlo.pdf', '/site/assets/files/2649/wth.pdf', '/site/assets/files/2651/wpk.pdf', '/site/assets/files/6873/wpr.pdf', '/site/assets/files/2653/wdl.pdf', '/site/assets/files/2655/wih.pdf', '/site/assets/files/2657/wob.pdf', '/site/assets/files/2658/wpt.pdf', '/site/assets/files/2659/wdb.pdf', '/site/assets/files/2661/wor.pdf', '/site/assets/files/2662/yaz.pdf', '/site/assets/files/2663/yem.pdf', '/site/assets/files/2664/yny.pdf', '/site/assets/files/2672/yum.pdf', '', '/site/assets/files/3435/ld.pdf', '/site/assets/files/3433/nec.pdf', '/site/assets/files/3434/ss.pdf', '/site/assets/files/6872/thruway.pdf', '', '/site/assets/files/3480/1.pdf', '/site/assets/files/3454/40.pdf', '/site/assets/files/3472/36.pdf', '/site/assets/files/3449/63.pdf', '/site/assets/files/33728/11.pdf', '/site/assets/files/3466/41.pdf', '/site/assets/files/3440/27.pdf', '/site/assets/files/3473/37.pdf', '/site/assets/files/3445/26.pdf', '/site/assets/files/3448/18.pdf', '/site/assets/files/3469/24.pdf', '/site/assets/files/3456/66.pdf', '/site/assets/files/3451/30.pdf', '/site/assets/files/3442/34.pdf', '/site/assets/files/3443/52.pdf', '/site/assets/files/3476/9.pdf', '/site/assets/files/3441/25.pdf', '/site/assets/files/3461/3.pdf', '/site/assets/files/3478/29.pdf', '/site/assets/files/3464/21.pdf', '/site/assets/files/3479/54.pdf', '/site/assets/files/3471/23.pdf', '/site/assets/files/3468/24.pdf', '/site/assets/files/3475/14.pdf', '/site/assets/files/3447/45.pdf', '/site/assets/files/3462/20.pdf', '/site/assets/files/3452/15a.pdf', '/site/assets/files/3463/56.pdf', '/site/assets/files/3453/5a.pdf', '/site/assets/files/3484/46.pdf', '/site/assets/files/3481/47.pdf', '/site/assets/files/3482/50.pdf', '/site/assets/files/3483/51.pdf', '/site/assets/files/4554/12.pdf', '/site/assets/files/3474/35.pdf', '/site/assets/files/3457/48.pdf', '/site/assets/files/3446/57.pdf', '/site/assets/files/3467/65.pdf', '/site/assets/files/3455/67.pdf', '/site/assets/files/3470/23.pdf', '/site/assets/files/3477/39.pdf', '/site/assets/files/3459/19.pdf', '/site/assets/files/3458/16.pdf', '/site/assets/files/3439/28.pdf', '/site/assets/files/3438/33.pdf', '/site/assets/files/3444/32.pdf', '/site/assets/files/3450/4.pdf', '/site/assets/files/3465/22.pdf', '', '/site/assets/files/4561/ak00.pdf', '/site/assets/files/4562/al01.pdf', '/site/assets/files/4563/al02.pdf', '/site/assets/files/4564/al03.pdf', '/site/assets/files/4565/al04.pdf', '/site/assets/files/4566/al05.pdf', '/site/assets/files/4567/al06.pdf', '/site/assets/files/4568/al07.pdf', '/site/assets/files/4569/ar01.pdf', '/site/assets/files/4570/ar02.pdf', '/site/assets/files/4571/ar03.pdf', '/site/assets/files/4572/ar04.pdf', '/site/assets/files/4573/az01.pdf', '/site/assets/files/4574/az02.pdf', '/site/assets/files/4575/az03.pdf', '/site/assets/files/4576/az04.pdf', '/site/assets/files/4577/az05.pdf', '/site/assets/files/4578/az06.pdf', '/site/assets/files/4579/az07.pdf', '/site/assets/files/4580/az08.pdf', '/site/assets/files/4581/az09.pdf', '/site/assets/files/4582/ca01.pdf', '/site/assets/files/4583/ca02.pdf', '/site/assets/files/4584/ca03.pdf', '/site/assets/files/4585/ca04.pdf', '/site/assets/files/4586/ca05.pdf', '/site/assets/files/4587/ca06.pdf', '/site/assets/files/4588/ca07.pdf', '/site/assets/files/4589/ca08.pdf', '/site/assets/files/4590/ca09.pdf', '/site/assets/files/4591/ca10.pdf', '/site/assets/files/4592/ca11.pdf', '/site/assets/files/4593/ca12.pdf', '/site/assets/files/4594/ca13.pdf', '/site/assets/files/4595/ca14.pdf', '/site/assets/files/4596/ca15.pdf', '/site/assets/files/4597/ca16.pdf', '/site/assets/files/4598/ca17.pdf', '/site/assets/files/4599/ca18.pdf', '/site/assets/files/4600/ca19.pdf', '/site/assets/files/4601/ca20.pdf', '/site/assets/files/4602/ca21.pdf', '/site/assets/files/4603/ca22.pdf', '/site/assets/files/4604/ca23.pdf', '/site/assets/files/4605/ca24.pdf', '/site/assets/files/4606/ca25.pdf', '/site/assets/files/4607/ca26.pdf', '/site/assets/files/4608/ca27.pdf', '/site/assets/files/4609/ca28.pdf', '/site/assets/files/4610/ca29.pdf', '/site/assets/files/4611/ca30.pdf', '/site/assets/files/4612/ca31.pdf', '/site/assets/files/4613/ca32.pdf', '/site/assets/files/4614/ca33.pdf', '/site/assets/files/4615/ca34.pdf', '/site/assets/files/4616/ca35.pdf', '/site/assets/files/4617/ca36.pdf', '/site/assets/files/4618/ca37.pdf', '/site/assets/files/4619/ca38.pdf', '/site/assets/files/4620/ca39.pdf', '/site/assets/files/4621/ca40.pdf', '/site/assets/files/4622/ca41.pdf', '/site/assets/files/4623/ca42.pdf', '/site/assets/files/4624/ca43.pdf', '/site/assets/files/4625/ca44.pdf', '/site/assets/files/4626/ca45.pdf', '/site/assets/files/4627/ca46.pdf', '/site/assets/files/4628/ca47.pdf', '/site/assets/files/4629/ca48.pdf', '/site/assets/files/4630/ca49.pdf', '/site/assets/files/4631/ca50.pdf', '/site/assets/files/4632/ca51.pdf', '/site/assets/files/4633/ca52.pdf', '/site/assets/files/4635/co01.pdf', '/site/assets/files/4636/co02.pdf', '/site/assets/files/4637/co03.pdf', '/site/assets/files/4638/co04.pdf', '/site/assets/files/4639/co05.pdf', '/site/assets/files/4640/co06.pdf', '/site/assets/files/4641/co07.pdf', '/site/assets/files/33742/co08.pdf', '/site/assets/files/4642/ct01.pdf', '/site/assets/files/4643/ct02.pdf', '/site/assets/files/4644/ct03.pdf', '/site/assets/files/4645/ct04.pdf', '/site/assets/files/4646/ct05.pdf', '/site/assets/files/4647/dc00.pdf', '/site/assets/files/4648/de00.pdf', '/site/assets/files/4649/fl01.pdf', '/site/assets/files/4650/fl02.pdf', '/site/assets/files/4651/fl03.pdf', '/site/assets/files/4652/fl04.pdf', '/site/assets/files/4653/fl05.pdf', '/site/assets/files/4654/fl06.pdf', '/site/assets/files/4655/fl07.pdf', '/site/assets/files/4656/fl08.pdf', '/site/assets/files/4657/fl09.pdf', '/site/assets/files/4658/fl10.pdf', '/site/assets/files/4659/fl11.pdf', '/site/assets/files/4660/fl12.pdf', '/site/assets/files/4661/fl13.pdf', '/site/assets/files/4662/fl14.pdf', '/site/assets/files/4663/fl15.pdf', '/site/assets/files/4664/fl16.pdf', '/site/assets/files/4665/fl17.pdf', '/site/assets/files/4666/fl18.pdf', '/site/assets/files/4667/fl19.pdf', '/site/assets/files/4668/fl20.pdf', '/site/assets/files/4669/fl21.pdf', '/site/assets/files/4670/fl22.pdf', '/site/assets/files/4671/fl23.pdf', '/site/assets/files/4672/fl24.pdf', '/site/assets/files/4673/fl25.pdf', '/site/assets/files/4674/fl26.pdf', '/site/assets/files/4675/fl27.pdf', '/site/assets/files/33741/fl28.pdf', '/site/assets/files/4676/ga01.pdf', '/site/assets/files/4677/ga02.pdf', '/site/assets/files/4678/ga03.pdf', '/site/assets/files/4679/ga04.pdf', '/site/assets/files/4680/ga05.pdf', '/site/assets/files/4681/ga06.pdf', '/site/assets/files/4682/ga07.pdf', '/site/assets/files/4683/ga08.pdf', '/site/assets/files/4684/ga09.pdf', '/site/assets/files/4685/ga10.pdf', '/site/assets/files/4686/ga11.pdf', '/site/assets/files/4687/ga12.pdf', '/site/assets/files/4688/ga13.pdf', '/site/assets/files/4689/ga14.pdf', '/site/assets/files/4690/hi01.pdf', '/site/assets/files/4691/hi02.pdf', '/site/assets/files/4692/ia01.pdf', '/site/assets/files/4693/ia02.pdf', '/site/assets/files/4694/ia03.pdf', '/site/assets/files/4695/ia04.pdf', '/site/assets/files/4696/id01.pdf', '/site/assets/files/4697/id02.pdf', '/site/assets/files/4698/il01.pdf', '/site/assets/files/4699/il02.pdf', '/site/assets/files/4700/il03.pdf', '/site/assets/files/4701/il04.pdf', '/site/assets/files/4702/il05.pdf', '/site/assets/files/4703/il06.pdf', '/site/assets/files/4704/il07.pdf', '/site/assets/files/4705/il08.pdf', '/site/assets/files/4706/il09.pdf', '/site/assets/files/4707/il10.pdf', '/site/assets/files/4708/il11.pdf', '/site/assets/files/4709/il12.pdf', '/site/assets/files/4710/il13.pdf', '/site/assets/files/4711/il14.pdf', '/site/assets/files/4712/il15.pdf', '/site/assets/files/4713/il16.pdf', '/site/assets/files/4714/il17.pdf', '/site/assets/files/4716/in01.pdf', '/site/assets/files/4717/in02.pdf', '/site/assets/files/4718/in03.pdf', '/site/assets/files/4719/in04.pdf', '/site/assets/files/4720/in05.pdf', '/site/assets/files/4721/in06.pdf', '/site/assets/files/4722/in07.pdf', '/site/assets/files/4723/in08.pdf', '/site/assets/files/4724/in09.pdf', '/site/assets/files/4725/ks01.pdf', '/site/assets/files/4726/ks02.pdf', '/site/assets/files/4727/ks03.pdf', '/site/assets/files/4728/ks04.pdf', '/site/assets/files/4729/ky01.pdf', '/site/assets/files/4730/ky02.pdf', '/site/assets/files/4731/ky03.pdf', '/site/assets/files/4732/ky04.pdf', '/site/assets/files/4733/ky05.pdf', '/site/assets/files/4734/ky06.pdf', '/site/assets/files/4735/la01.pdf', '/site/assets/files/4736/la02.pdf', '/site/assets/files/4737/la03.pdf', '/site/assets/files/4738/la04.pdf', '/site/assets/files/4739/la05.pdf', '/site/assets/files/4740/la06.pdf', '/site/assets/files/4741/ma01.pdf', '/site/assets/files/4742/ma02.pdf', '/site/assets/files/4743/ma03.pdf', '/site/assets/files/4744/ma04.pdf', '/site/assets/files/4745/ma05.pdf', '/site/assets/files/4746/ma06.pdf', '/site/assets/files/4747/ma07.pdf', '/site/assets/files/4748/ma08.pdf', '/site/assets/files/4749/ma09.pdf', '/site/assets/files/4750/md01.pdf', '/site/assets/files/4751/md02.pdf', '/site/assets/files/4752/md03.pdf', '/site/assets/files/4753/md04.pdf', '/site/assets/files/4754/md05.pdf', '/site/assets/files/4755/md06.pdf', '/site/assets/files/4756/md07.pdf', '/site/assets/files/4757/md08.pdf', '/site/assets/files/4758/me01.pdf', '/site/assets/files/4759/me02.pdf', '/site/assets/files/4760/mi01.pdf', '/site/assets/files/4761/mi02.pdf', '/site/assets/files/4762/mi03.pdf', '/site/assets/files/4763/mi04.pdf', '/site/assets/files/4764/mi05.pdf', '/site/assets/files/4765/mi06.pdf', '/site/assets/files/4766/mi07.pdf', '/site/assets/files/4767/mi08.pdf', '/site/assets/files/4768/mi09.pdf', '/site/assets/files/4769/mi10.pdf', '/site/assets/files/4770/mi11.pdf', '/site/assets/files/4771/mi12.pdf', '/site/assets/files/4772/mi13.pdf', '/site/assets/files/4774/mn01.pdf', '/site/assets/files/4775/mn02.pdf', '/site/assets/files/4776/mn03.pdf', '/site/assets/files/4777/mn04.pdf', '/site/assets/files/4778/mn05.pdf', '/site/assets/files/4779/mn06.pdf', '/site/assets/files/4780/mn07.pdf', '/site/assets/files/4781/mn08.pdf', '/site/assets/files/4782/mo01.pdf', '/site/assets/files/4783/mo02.pdf', '/site/assets/files/4784/mo03.pdf', '/site/assets/files/4785/mo04.pdf', '/site/assets/files/4786/mo05.pdf', '/site/assets/files/4787/mo06.pdf', '/site/assets/files/4788/mo07.pdf', '/site/assets/files/4789/mo08.pdf', '/site/assets/files/4790/ms01.pdf', '/site/assets/files/4791/ms02.pdf', '/site/assets/files/4792/ms03.pdf', '/site/assets/files/4793/ms04.pdf', '/site/assets/files/33739/mt01.pdf', '/site/assets/files/33740/mt02.pdf', '/site/assets/files/4795/nc01.pdf', '/site/assets/files/4796/nc02.pdf', '/site/assets/files/4797/nc03.pdf', '/site/assets/files/4798/nc04.pdf', '/site/assets/files/4799/nc05.pdf', '/site/assets/files/4800/nc06.pdf', '/site/assets/files/4801/nc07.pdf', '/site/assets/files/4802/nc08.pdf', '/site/assets/files/4803/nc09.pdf', '/site/assets/files/4804/nc10.pdf', '/site/assets/files/4805/nc11.pdf', '/site/assets/files/4806/nc12.pdf', '/site/assets/files/4807/nc13.pdf', '/site/assets/files/33738/nc14.pdf', '/site/assets/files/4808/nd00.pdf', '/site/assets/files/4809/ne01.pdf', '/site/assets/files/4810/ne02.pdf', '/site/assets/files/4811/ne03.pdf', '/site/assets/files/4812/nh01.pdf', '/site/assets/files/4813/nh02.pdf', '/site/assets/files/4814/nj01.pdf', '/site/assets/files/4815/nj02.pdf', '/site/assets/files/4816/nj03.pdf', '/site/assets/files/4817/nj04.pdf', '/site/assets/files/4818/nj05.pdf', '/site/assets/files/4819/nj06.pdf', '/site/assets/files/4820/nj07.pdf', '/site/assets/files/4821/nj08.pdf', '/site/assets/files/4822/nj09.pdf', '/site/assets/files/4823/nj10.pdf', '/site/assets/files/4824/nj11.pdf', '/site/assets/files/4825/nj12.pdf', '/site/assets/files/4826/nm01.pdf', '/site/assets/files/4827/nm02.pdf', '/site/assets/files/4828/nm03.pdf', '/site/assets/files/4829/nv01.pdf', '/site/assets/files/4830/nv02.pdf', '/site/assets/files/4831/nv03.pdf', '/site/assets/files/4832/nv04.pdf', '/site/assets/files/4833/ny01.pdf', '/site/assets/files/4834/ny02.pdf', '/site/assets/files/4835/ny03.pdf', '/site/assets/files/4836/ny04.pdf', '/site/assets/files/4837/ny05.pdf', '/site/assets/files/4838/ny06.pdf', '/site/assets/files/4839/ny07.pdf', '/site/assets/files/4840/ny08.pdf', '/site/assets/files/4841/ny09.pdf', '/site/assets/files/4842/ny10.pdf', '/site/assets/files/4843/ny11.pdf', '/site/assets/files/4844/ny12.pdf', '/site/assets/files/4845/ny13.pdf', '/site/assets/files/4846/ny14.pdf', '/site/assets/files/4847/ny15.pdf', '/site/assets/files/4848/ny16.pdf', '/site/assets/files/4849/ny17.pdf', '/site/assets/files/4850/ny18.pdf', '/site/assets/files/4851/ny19.pdf', '/site/assets/files/4852/ny20.pdf', '/site/assets/files/4853/ny21.pdf', '/site/assets/files/4854/ny22.pdf', '/site/assets/files/4855/ny23.pdf', '/site/assets/files/4856/ny24.pdf', '/site/assets/files/4857/ny25.pdf', '/site/assets/files/4858/ny26.pdf', '/site/assets/files/4860/oh01.pdf', '/site/assets/files/4861/oh02.pdf', '/site/assets/files/4862/oh03.pdf', '/site/assets/files/4863/oh04.pdf', '/site/assets/files/4864/oh05.pdf', '/site/assets/files/4865/oh06.pdf', '/site/assets/files/4866/oh07.pdf', '/site/assets/files/4867/oh08.pdf', '/site/assets/files/4868/oh09.pdf', '/site/assets/files/4869/oh10.pdf', '/site/assets/files/4870/oh11.pdf', '/site/assets/files/4871/oh12.pdf', '/site/assets/files/4872/oh13.pdf', '/site/assets/files/4873/oh14.pdf', '/site/assets/files/4874/oh15.pdf', '/site/assets/files/4876/ok01.pdf', '/site/assets/files/4877/ok02.pdf', '/site/assets/files/4878/ok03.pdf', '/site/assets/files/4879/ok04.pdf', '/site/assets/files/4880/ok05.pdf', '/site/assets/files/4881/or01.pdf', '/site/assets/files/4882/or02.pdf', '/site/assets/files/4883/or03.pdf', '/site/assets/files/4884/or04.pdf', '/site/assets/files/4885/or05.pdf', '/site/assets/files/33737/or06.pdf', '/site/assets/files/4886/pa01.pdf', '/site/assets/files/4887/pa02.pdf', '/site/assets/files/4888/pa03.pdf', '/site/assets/files/4889/pa04.pdf', '/site/assets/files/4890/pa05.pdf', '/site/assets/files/4891/pa06.pdf', '/site/assets/files/4892/pa07.pdf', '/site/assets/files/4893/pa08.pdf', '/site/assets/files/4894/pa09.pdf', '/site/assets/files/4895/pa10.pdf', '/site/assets/files/4896/pa11.pdf', '/site/assets/files/4897/pa12.pdf', '/site/assets/files/4898/pa13.pdf', '/site/assets/files/4899/pa14.pdf', '/site/assets/files/4900/pa15.pdf', '/site/assets/files/4901/pa16.pdf', '/site/assets/files/4902/pa17.pdf', '/site/assets/files/4904/ri01.pdf', '/site/assets/files/4905/ri02.pdf', '/site/assets/files/4906/sc01.pdf', '/site/assets/files/4907/sc02.pdf', '/site/assets/files/4908/sc03.pdf', '/site/assets/files/4909/sc04.pdf', '/site/assets/files/4910/sc05.pdf', '/site/assets/files/4911/sc06.pdf', '/site/assets/files/4912/sc07.pdf', '/site/assets/files/4913/sd00.pdf', '/site/assets/files/4914/tn01.pdf', '/site/assets/files/4915/tn02.pdf', '/site/assets/files/4916/tn03.pdf', '/site/assets/files/4917/tn04.pdf', '/site/assets/files/4918/tn05.pdf', '/site/assets/files/4919/tn06.pdf', '/site/assets/files/4920/tn07.pdf', '/site/assets/files/4921/tn08.pdf', '/site/assets/files/4922/tn09.pdf', '/site/assets/files/4923/tx01.pdf', '/site/assets/files/4924/tx02.pdf', '/site/assets/files/4925/tx03.pdf', '/site/assets/files/4926/tx04.pdf', '/site/assets/files/4927/tx05.pdf', '/site/assets/files/4928/tx06.pdf', '/site/assets/files/4929/tx07.pdf', '/site/assets/files/4930/tx08.pdf', '/site/assets/files/4931/tx09.pdf', '/site/assets/files/4932/tx10.pdf', '/site/assets/files/4933/tx11.pdf', '/site/assets/files/4934/tx12.pdf', '/site/assets/files/4935/tx13.pdf', '/site/assets/files/4936/tx14.pdf', '/site/assets/files/4937/tx15.pdf', '/site/assets/files/4938/tx16.pdf', '/site/assets/files/4939/tx17.pdf', '/site/assets/files/4940/tx18.pdf', '/site/assets/files/4941/tx19.pdf', '/site/assets/files/4942/tx20.pdf', '/site/assets/files/4943/tx21.pdf', '/site/assets/files/4944/tx22.pdf', '/site/assets/files/4945/tx23.pdf', '/site/assets/files/4946/tx24.pdf', '/site/assets/files/4947/tx25.pdf', '/site/assets/files/4948/tx26.pdf', '/site/assets/files/4949/tx27.pdf', '/site/assets/files/4950/tx28.pdf', '/site/assets/files/4951/tx29.pdf', '/site/assets/files/4952/tx30.pdf', '/site/assets/files/4953/tx31.pdf', '/site/assets/files/4954/tx32.pdf', '/site/assets/files/4955/tx33.pdf', '/site/assets/files/4956/tx34.pdf', '/site/assets/files/4957/tx35.pdf', '/site/assets/files/4958/tx36.pdf', '/site/assets/files/33735/tx37.pdf', '/site/assets/files/33736/tx38.pdf', '/site/assets/files/4959/ut01.pdf', '/site/assets/files/4960/ut02.pdf', '/site/assets/files/4961/ut03.pdf', '/site/assets/files/4962/ut04.pdf', '/site/assets/files/4963/va01.pdf', '/site/assets/files/4964/va02.pdf', '/site/assets/files/4965/va03.pdf', '/site/assets/files/4966/va04.pdf', '/site/assets/files/4967/va05.pdf', '/site/assets/files/4968/va06.pdf', '/site/assets/files/4969/va07.pdf', '/site/assets/files/4970/va08.pdf', '/site/assets/files/4971/va09.pdf', '/site/assets/files/4972/va10.pdf', '/site/assets/files/4973/va11.pdf', '/site/assets/files/4974/vt00.pdf', '/site/assets/files/4975/wa01.pdf', '/site/assets/files/4976/wa02.pdf', '/site/assets/files/4977/wa03.pdf', '/site/assets/files/4978/wa04.pdf', '/site/assets/files/4979/wa05.pdf', '/site/assets/files/4980/wa06.pdf', '/site/assets/files/4981/wa07.pdf', '/site/assets/files/4982/wa08.pdf', '/site/assets/files/4983/wa09.pdf', '/site/assets/files/4984/wa10.pdf', '/site/assets/files/4985/wi01.pdf', '/site/assets/files/4986/wi02.pdf', '/site/assets/files/4987/wi03.pdf', '/site/assets/files/4988/wi04.pdf', '/site/assets/files/4989/wi05.pdf', '/site/assets/files/4990/wi06.pdf', '/site/assets/files/4991/wi07.pdf', '/site/assets/files/4992/wi08.pdf', '/site/assets/files/4993/wv01.pdf', '/site/assets/files/4994/wv02.pdf', '/site/assets/files/4996/wy00.pdf']\n"
     ]
    }
   ],
   "source": [
    "import requests\n",
    "from bs4 import BeautifulSoup\n",
    "\n",
    "# URL of the webpage to scrape\n",
    "url = \"https://www.railpassengers.org/resources/ridership-statistics/\"\n",
    "\n",
    "# Send a GET request to the URL\n",
    "response = requests.get(url)\n",
    "soup = BeautifulSoup(response.content, \"html.parser\")\n",
    "\n",
    "# Find all option elements and extract their values\n",
    "option_values = [option['value'] for option in soup.find_all('option') if 'value' in option.attrs]\n",
    "\n",
    "# Print the list of option values\n",
    "print(option_values)\n"
   ]
  },
  {
   "cell_type": "code",
   "execution_count": 71,
   "id": "c9842048",
   "metadata": {},
   "outputs": [
    {
     "data": {
      "text/plain": [
       "1090"
      ]
     },
     "execution_count": 71,
     "metadata": {},
     "output_type": "execute_result"
    }
   ],
   "source": [
    "option_values = option_values[1:len(option_values)]\n",
    "len(option_values)"
   ]
  },
  {
   "cell_type": "markdown",
   "id": "6d020abc",
   "metadata": {},
   "source": [
    "## Only extract the URLs with XXX.pdf format"
   ]
  },
  {
   "cell_type": "code",
   "execution_count": 73,
   "id": "62052a21",
   "metadata": {},
   "outputs": [],
   "source": [
    "import requests\n",
    "from bs4 import BeautifulSoup\n",
    "\n",
    "# URL of the webpage to scrape\n",
    "url = \"https://www.railpassengers.org/resources/ridership-statistics/\"\n",
    "\n",
    "# Send a GET request to the URL\n",
    "response = requests.get(url)\n",
    "soup = BeautifulSoup(response.content, \"html.parser\")\n",
    "\n",
    "# Initialize an empty list to store the option values\n",
    "option_values = []\n",
    "\n",
    "# Find all option elements\n",
    "options = soup.find_all('option')\n",
    "\n",
    "# Iterate over each option element and extract its value\n",
    "for option in options:\n",
    "    if 'value' in option.attrs:\n",
    "        value = option['value']\n",
    "        # Extract the part after the last slash and before .pdf\n",
    "        part_after_last_slash = value.split('/')[-1]\n",
    "        filename = part_after_last_slash.split('.')[0]\n",
    "        # Check if the part has more than two characters\n",
    "        if len(filename) > 2 and value.endswith('.pdf'):\n",
    "            option_values.append(value)"
   ]
  },
  {
   "cell_type": "code",
   "execution_count": 74,
   "id": "7e9d9042",
   "metadata": {},
   "outputs": [
    {
     "data": {
      "text/plain": [
       "989"
      ]
     },
     "execution_count": 74,
     "metadata": {},
     "output_type": "execute_result"
    }
   ],
   "source": [
    "len(option_values)"
   ]
  },
  {
   "cell_type": "markdown",
   "id": "b6f2a96f",
   "metadata": {},
   "source": [
    "## Remove any URLs that have pattern: XX##.pdf"
   ]
  },
  {
   "cell_type": "code",
   "execution_count": 84,
   "id": "290e6a31",
   "metadata": {
    "scrolled": true
   },
   "outputs": [],
   "source": [
    "import requests\n",
    "from bs4 import BeautifulSoup\n",
    "import re\n",
    "\n",
    "# URL of the webpage to scrape\n",
    "url = \"https://www.railpassengers.org/resources/ridership-statistics/\"\n",
    "\n",
    "# Send a GET request to the URL\n",
    "response = requests.get(url)\n",
    "soup = BeautifulSoup(response.content, \"html.parser\")\n",
    "\n",
    "# Initialize an empty list to store the option values\n",
    "option_values = []\n",
    "\n",
    "# Find all option elements\n",
    "options = soup.find_all('option')\n",
    "\n",
    "# Regular expression pattern to match filenames ending in two letters and two numbers before .pdf\n",
    "pattern = re.compile(r'[A-Za-z]{2}\\d{2}\\.pdf$')\n",
    "\n",
    "# Iterate over each option element and extract its value\n",
    "for option in options:\n",
    "    if 'value' in option.attrs:\n",
    "        value = option['value']\n",
    "        # Check if the value matches the undesired pattern\n",
    "        if len(value.split('/')[-1].split('.')[0]) > 2 and value.endswith('.pdf') and not pattern.search(value):\n",
    "            option_values.append(value)"
   ]
  },
  {
   "cell_type": "code",
   "execution_count": 85,
   "id": "6adfa3f7",
   "metadata": {},
   "outputs": [
    {
     "data": {
      "text/plain": [
       "553"
      ]
     },
     "execution_count": 85,
     "metadata": {},
     "output_type": "execute_result"
    }
   ],
   "source": [
    "len(option_values)"
   ]
  },
  {
   "cell_type": "code",
   "execution_count": 86,
   "id": "4db621a3",
   "metadata": {},
   "outputs": [
    {
     "data": {
      "text/plain": [
       "552"
      ]
     },
     "execution_count": 86,
     "metadata": {},
     "output_type": "execute_result"
    }
   ],
   "source": [
    "option_values.remove(\"/site/assets/files/6872/thruway.pdf\")\n",
    "len(option_values)"
   ]
  },
  {
   "cell_type": "markdown",
   "id": "28b4ad3a",
   "metadata": {},
   "source": [
    "### Proof of Concept: Pull out the ridership numbers"
   ]
  },
  {
   "cell_type": "code",
   "execution_count": 77,
   "id": "5f945d86",
   "metadata": {},
   "outputs": [
    {
     "data": {
      "text/html": [
       "<div>\n",
       "<style scoped>\n",
       "    .dataframe tbody tr th:only-of-type {\n",
       "        vertical-align: middle;\n",
       "    }\n",
       "\n",
       "    .dataframe tbody tr th {\n",
       "        vertical-align: top;\n",
       "    }\n",
       "\n",
       "    .dataframe thead th {\n",
       "        text-align: right;\n",
       "    }\n",
       "</style>\n",
       "<table border=\"1\" class=\"dataframe\">\n",
       "  <thead>\n",
       "    <tr style=\"text-align: right;\">\n",
       "      <th>Year</th>\n",
       "      <th>Station</th>\n",
       "      <th>2016</th>\n",
       "      <th>2017</th>\n",
       "      <th>2018</th>\n",
       "      <th>2019</th>\n",
       "      <th>2020</th>\n",
       "      <th>2021</th>\n",
       "      <th>2022</th>\n",
       "    </tr>\n",
       "  </thead>\n",
       "  <tbody>\n",
       "    <tr>\n",
       "      <th>0</th>\n",
       "      <td>Test</td>\n",
       "      <td>37,161</td>\n",
       "      <td>37,045</td>\n",
       "      <td>37,867</td>\n",
       "      <td>39,108</td>\n",
       "      <td>19,743</td>\n",
       "      <td>14,180</td>\n",
       "      <td>34,040</td>\n",
       "    </tr>\n",
       "  </tbody>\n",
       "</table>\n",
       "</div>"
      ],
      "text/plain": [
       "Year Station    2016    2017    2018    2019    2020    2021    2022\n",
       "0       Test  37,161  37,045  37,867  39,108  19,743  14,180  34,040"
      ]
     },
     "execution_count": 77,
     "metadata": {},
     "output_type": "execute_result"
    }
   ],
   "source": [
    "import requests\n",
    "import pandas as pd\n",
    "import fitz\n",
    "import re\n",
    "\n",
    "# URL of the PDF file\n",
    "url_abe = 'https://www.railpassengers.org/site/assets/files/1679/abe.pdf'\n",
    "\n",
    "# Step 1: Download the PDF file\n",
    "page = requests.get(url_abe)\n",
    "\n",
    "# Save the PDF file locally\n",
    "pdf_path = 'abe.pdf'\n",
    "with open(pdf_path, 'wb') as file:\n",
    "    file.write(page.content)\n",
    "\n",
    "# Step 2: Extract text from the PDF file\n",
    "def extract_text_from_pdf(pdf_path):\n",
    "    # Open the PDF file\n",
    "    document = fitz.open(pdf_path)\n",
    "    \n",
    "    # Iterate through each page and extract text\n",
    "    text = ''\n",
    "    for page_num in range(len(document)):\n",
    "        page = document.load_page(page_num)\n",
    "        text += page.get_text()\n",
    "    \n",
    "    return text\n",
    "\n",
    "# Get the extracted text\n",
    "pdf_text = extract_text_from_pdf(pdf_path)\n",
    "\n",
    "# Step 3: Parse the text to extract all numbers in the XX,XXX format\n",
    "def extract_all_ridership_numbers(text):\n",
    "    # Define a regex pattern to find all numbers formatted like \"XX,XXX\"\n",
    "    pattern = re.compile(r'\\b\\d{2},\\d{3}\\b')\n",
    "    \n",
    "    # Find all matches in the text\n",
    "    matches = pattern.findall(text)\n",
    "    \n",
    "    # Return all matches\n",
    "    return matches\n",
    "\n",
    "# Extract all ridership numbers\n",
    "ridership_numbers = extract_all_ridership_numbers(pdf_text)\n",
    "\n",
    "df = pd.DataFrame(ridership_numbers, columns=['Ridership Numbers'])[0:7]\n",
    "df['Year'] = [2016,2017,2018,2019,2020,2021,2022]\n",
    "df['Station'] = 'Test'\n",
    "df = df.pivot(index = 'Station', columns=\"Year\", values=\"Ridership Numbers\").reset_index()\n",
    "\n",
    "df"
   ]
  },
  {
   "cell_type": "markdown",
   "id": "8245e2fe",
   "metadata": {},
   "source": [
    "### Loop through all of the URL chunks"
   ]
  },
  {
   "cell_type": "code",
   "execution_count": 89,
   "id": "37050d64",
   "metadata": {},
   "outputs": [
    {
     "data": {
      "text/plain": [
       "'/site/assets/files/1685/alb.pdf'"
      ]
     },
     "execution_count": 89,
     "metadata": {},
     "output_type": "execute_result"
    }
   ],
   "source": [
    "option_values[2]"
   ]
  },
  {
   "cell_type": "code",
   "execution_count": 90,
   "id": "b3a8fac1",
   "metadata": {},
   "outputs": [
    {
     "name": "stdout",
     "output_type": "stream",
     "text": [
      "Extracted Ridership Numbers: ['37,161', '37,045', '37,867', '39,108', '19,743', '14,180', '34,040', '34,040', '34,040', '32,991']\n"
     ]
    },
    {
     "ename": "ValueError",
     "evalue": "Length of values (7) does not match length of index (10)",
     "output_type": "error",
     "traceback": [
      "\u001b[0;31m---------------------------------------------------------------------------\u001b[0m",
      "\u001b[0;31mValueError\u001b[0m                                Traceback (most recent call last)",
      "Cell \u001b[0;32mIn[90], line 58\u001b[0m\n\u001b[1;32m     55\u001b[0m \u001b[38;5;28mprint\u001b[39m(\u001b[38;5;124m'\u001b[39m\u001b[38;5;124mExtracted Ridership Numbers:\u001b[39m\u001b[38;5;124m'\u001b[39m, ridership_numbers)\n\u001b[1;32m     57\u001b[0m df \u001b[38;5;241m=\u001b[39m pd\u001b[38;5;241m.\u001b[39mDataFrame(ridership_numbers, columns\u001b[38;5;241m=\u001b[39m[\u001b[38;5;124m'\u001b[39m\u001b[38;5;124mRidership Numbers\u001b[39m\u001b[38;5;124m'\u001b[39m])\u001b[38;5;66;03m#[0:7]\u001b[39;00m\n\u001b[0;32m---> 58\u001b[0m df[\u001b[38;5;124m'\u001b[39m\u001b[38;5;124mYear\u001b[39m\u001b[38;5;124m'\u001b[39m] \u001b[38;5;241m=\u001b[39m [\u001b[38;5;241m2016\u001b[39m,\u001b[38;5;241m2017\u001b[39m,\u001b[38;5;241m2018\u001b[39m,\u001b[38;5;241m2019\u001b[39m,\u001b[38;5;241m2020\u001b[39m,\u001b[38;5;241m2021\u001b[39m,\u001b[38;5;241m2022\u001b[39m]\n\u001b[1;32m     59\u001b[0m df[\u001b[38;5;124m'\u001b[39m\u001b[38;5;124mStation\u001b[39m\u001b[38;5;124m'\u001b[39m] \u001b[38;5;241m=\u001b[39m i\n\u001b[1;32m     60\u001b[0m df \u001b[38;5;241m=\u001b[39m df\u001b[38;5;241m.\u001b[39mpivot(index \u001b[38;5;241m=\u001b[39m \u001b[38;5;124m'\u001b[39m\u001b[38;5;124mStation\u001b[39m\u001b[38;5;124m'\u001b[39m, columns\u001b[38;5;241m=\u001b[39m\u001b[38;5;124m\"\u001b[39m\u001b[38;5;124mYear\u001b[39m\u001b[38;5;124m\"\u001b[39m, values\u001b[38;5;241m=\u001b[39m\u001b[38;5;124m\"\u001b[39m\u001b[38;5;124mRidership Numbers\u001b[39m\u001b[38;5;124m\"\u001b[39m)\u001b[38;5;241m.\u001b[39mreset_index()\n",
      "File \u001b[0;32m~/anaconda3/lib/python3.9/site-packages/pandas/core/frame.py:4091\u001b[0m, in \u001b[0;36mDataFrame.__setitem__\u001b[0;34m(self, key, value)\u001b[0m\n\u001b[1;32m   4088\u001b[0m     \u001b[38;5;28mself\u001b[39m\u001b[38;5;241m.\u001b[39m_setitem_array([key], value)\n\u001b[1;32m   4089\u001b[0m \u001b[38;5;28;01melse\u001b[39;00m:\n\u001b[1;32m   4090\u001b[0m     \u001b[38;5;66;03m# set column\u001b[39;00m\n\u001b[0;32m-> 4091\u001b[0m     \u001b[38;5;28;43mself\u001b[39;49m\u001b[38;5;241;43m.\u001b[39;49m\u001b[43m_set_item\u001b[49m\u001b[43m(\u001b[49m\u001b[43mkey\u001b[49m\u001b[43m,\u001b[49m\u001b[43m \u001b[49m\u001b[43mvalue\u001b[49m\u001b[43m)\u001b[49m\n",
      "File \u001b[0;32m~/anaconda3/lib/python3.9/site-packages/pandas/core/frame.py:4300\u001b[0m, in \u001b[0;36mDataFrame._set_item\u001b[0;34m(self, key, value)\u001b[0m\n\u001b[1;32m   4290\u001b[0m \u001b[38;5;28;01mdef\u001b[39;00m \u001b[38;5;21m_set_item\u001b[39m(\u001b[38;5;28mself\u001b[39m, key, value) \u001b[38;5;241m-\u001b[39m\u001b[38;5;241m>\u001b[39m \u001b[38;5;28;01mNone\u001b[39;00m:\n\u001b[1;32m   4291\u001b[0m     \u001b[38;5;124;03m\"\"\"\u001b[39;00m\n\u001b[1;32m   4292\u001b[0m \u001b[38;5;124;03m    Add series to DataFrame in specified column.\u001b[39;00m\n\u001b[1;32m   4293\u001b[0m \n\u001b[0;32m   (...)\u001b[0m\n\u001b[1;32m   4298\u001b[0m \u001b[38;5;124;03m    ensure homogeneity.\u001b[39;00m\n\u001b[1;32m   4299\u001b[0m \u001b[38;5;124;03m    \"\"\"\u001b[39;00m\n\u001b[0;32m-> 4300\u001b[0m     value, refs \u001b[38;5;241m=\u001b[39m \u001b[38;5;28;43mself\u001b[39;49m\u001b[38;5;241;43m.\u001b[39;49m\u001b[43m_sanitize_column\u001b[49m\u001b[43m(\u001b[49m\u001b[43mvalue\u001b[49m\u001b[43m)\u001b[49m\n\u001b[1;32m   4302\u001b[0m     \u001b[38;5;28;01mif\u001b[39;00m (\n\u001b[1;32m   4303\u001b[0m         key \u001b[38;5;129;01min\u001b[39;00m \u001b[38;5;28mself\u001b[39m\u001b[38;5;241m.\u001b[39mcolumns\n\u001b[1;32m   4304\u001b[0m         \u001b[38;5;129;01mand\u001b[39;00m value\u001b[38;5;241m.\u001b[39mndim \u001b[38;5;241m==\u001b[39m \u001b[38;5;241m1\u001b[39m\n\u001b[1;32m   4305\u001b[0m         \u001b[38;5;129;01mand\u001b[39;00m \u001b[38;5;129;01mnot\u001b[39;00m \u001b[38;5;28misinstance\u001b[39m(value\u001b[38;5;241m.\u001b[39mdtype, ExtensionDtype)\n\u001b[1;32m   4306\u001b[0m     ):\n\u001b[1;32m   4307\u001b[0m         \u001b[38;5;66;03m# broadcast across multiple columns if necessary\u001b[39;00m\n\u001b[1;32m   4308\u001b[0m         \u001b[38;5;28;01mif\u001b[39;00m \u001b[38;5;129;01mnot\u001b[39;00m \u001b[38;5;28mself\u001b[39m\u001b[38;5;241m.\u001b[39mcolumns\u001b[38;5;241m.\u001b[39mis_unique \u001b[38;5;129;01mor\u001b[39;00m \u001b[38;5;28misinstance\u001b[39m(\u001b[38;5;28mself\u001b[39m\u001b[38;5;241m.\u001b[39mcolumns, MultiIndex):\n",
      "File \u001b[0;32m~/anaconda3/lib/python3.9/site-packages/pandas/core/frame.py:5039\u001b[0m, in \u001b[0;36mDataFrame._sanitize_column\u001b[0;34m(self, value)\u001b[0m\n\u001b[1;32m   5036\u001b[0m     \u001b[38;5;28;01mreturn\u001b[39;00m _reindex_for_setitem(value, \u001b[38;5;28mself\u001b[39m\u001b[38;5;241m.\u001b[39mindex)\n\u001b[1;32m   5038\u001b[0m \u001b[38;5;28;01mif\u001b[39;00m is_list_like(value):\n\u001b[0;32m-> 5039\u001b[0m     \u001b[43mcom\u001b[49m\u001b[38;5;241;43m.\u001b[39;49m\u001b[43mrequire_length_match\u001b[49m\u001b[43m(\u001b[49m\u001b[43mvalue\u001b[49m\u001b[43m,\u001b[49m\u001b[43m \u001b[49m\u001b[38;5;28;43mself\u001b[39;49m\u001b[38;5;241;43m.\u001b[39;49m\u001b[43mindex\u001b[49m\u001b[43m)\u001b[49m\n\u001b[1;32m   5040\u001b[0m \u001b[38;5;28;01mreturn\u001b[39;00m sanitize_array(value, \u001b[38;5;28mself\u001b[39m\u001b[38;5;241m.\u001b[39mindex, copy\u001b[38;5;241m=\u001b[39m\u001b[38;5;28;01mTrue\u001b[39;00m, allow_2d\u001b[38;5;241m=\u001b[39m\u001b[38;5;28;01mTrue\u001b[39;00m), \u001b[38;5;28;01mNone\u001b[39;00m\n",
      "File \u001b[0;32m~/anaconda3/lib/python3.9/site-packages/pandas/core/common.py:561\u001b[0m, in \u001b[0;36mrequire_length_match\u001b[0;34m(data, index)\u001b[0m\n\u001b[1;32m    557\u001b[0m \u001b[38;5;124;03m\"\"\"\u001b[39;00m\n\u001b[1;32m    558\u001b[0m \u001b[38;5;124;03mCheck the length of data matches the length of the index.\u001b[39;00m\n\u001b[1;32m    559\u001b[0m \u001b[38;5;124;03m\"\"\"\u001b[39;00m\n\u001b[1;32m    560\u001b[0m \u001b[38;5;28;01mif\u001b[39;00m \u001b[38;5;28mlen\u001b[39m(data) \u001b[38;5;241m!=\u001b[39m \u001b[38;5;28mlen\u001b[39m(index):\n\u001b[0;32m--> 561\u001b[0m     \u001b[38;5;28;01mraise\u001b[39;00m \u001b[38;5;167;01mValueError\u001b[39;00m(\n\u001b[1;32m    562\u001b[0m         \u001b[38;5;124m\"\u001b[39m\u001b[38;5;124mLength of values \u001b[39m\u001b[38;5;124m\"\u001b[39m\n\u001b[1;32m    563\u001b[0m         \u001b[38;5;124mf\u001b[39m\u001b[38;5;124m\"\u001b[39m\u001b[38;5;124m(\u001b[39m\u001b[38;5;132;01m{\u001b[39;00m\u001b[38;5;28mlen\u001b[39m(data)\u001b[38;5;132;01m}\u001b[39;00m\u001b[38;5;124m) \u001b[39m\u001b[38;5;124m\"\u001b[39m\n\u001b[1;32m    564\u001b[0m         \u001b[38;5;124m\"\u001b[39m\u001b[38;5;124mdoes not match length of index \u001b[39m\u001b[38;5;124m\"\u001b[39m\n\u001b[1;32m    565\u001b[0m         \u001b[38;5;124mf\u001b[39m\u001b[38;5;124m\"\u001b[39m\u001b[38;5;124m(\u001b[39m\u001b[38;5;132;01m{\u001b[39;00m\u001b[38;5;28mlen\u001b[39m(index)\u001b[38;5;132;01m}\u001b[39;00m\u001b[38;5;124m)\u001b[39m\u001b[38;5;124m\"\u001b[39m\n\u001b[1;32m    566\u001b[0m     )\n",
      "\u001b[0;31mValueError\u001b[0m: Length of values (7) does not match length of index (10)"
     ]
    }
   ],
   "source": [
    "import requests\n",
    "from bs4 import BeautifulSoup\n",
    "\n",
    "# URL of the webpage to scrape\n",
    "url = \"https://www.railpassengers.org/resources/ridership-statistics/\"\n",
    "\n",
    "\n",
    "end = len(option_values)\n",
    "list_of_url_chunks = option_values\n",
    "url = 'https://www.railpassengers.org'\n",
    "\n",
    "\n",
    "ridership_data = []\n",
    "\n",
    "for i in list_of_url_chunks:\n",
    "        # Step 1: Download the PDF file\n",
    "        page = requests.get(url + i)\n",
    "\n",
    "        # Save the PDF file locally\n",
    "        pdf_path = i.rsplit('/', 1)[1]\n",
    "        with open(pdf_path, 'wb') as file:\n",
    "            file.write(page.content)\n",
    "\n",
    "        # Step 2: Extract text from the PDF file\n",
    "        def extract_text_from_pdf(pdf_path):\n",
    "            # Open the PDF file\n",
    "            document = fitz.open(pdf_path)\n",
    "\n",
    "            # Iterate through each page and extract text\n",
    "            text = ''\n",
    "            for page_num in range(len(document)):\n",
    "                page = document.load_page(page_num)\n",
    "                text += page.get_text()\n",
    "\n",
    "            return text\n",
    "\n",
    "        # Get the extracted text\n",
    "        pdf_text = extract_text_from_pdf(pdf_path)\n",
    "\n",
    "        # Step 3: Parse the text to extract all numbers in the XX,XXX format\n",
    "        def extract_all_ridership_numbers(text):\n",
    "            # Define a regex pattern to find all numbers formatted like \"XX,XXX\"\n",
    "            pattern = re.compile(r'\\b\\d{2},\\d{3}\\b')\n",
    "\n",
    "            # Find all matches in the text\n",
    "            matches = pattern.findall(text)\n",
    "\n",
    "            # Return all matches\n",
    "            return matches\n",
    "\n",
    "        # Extract all ridership numbers\n",
    "        ridership_numbers = extract_all_ridership_numbers(pdf_text)\n",
    "\n",
    "        # Check where we're at...\n",
    "        print('Station', i)\n",
    "\n",
    "\n",
    "        df = pd.DataFrame(ridership_numbers, columns=['Ridership Numbers'])[0:7]\n",
    "        df['Year'] = [2016,2017,2018,2019,2020,2021,2022]\n",
    "        df['Station'] = i\n",
    "        df = df.pivot(index = 'Station', columns=\"Year\", values=\"Ridership Numbers\").reset_index()\n",
    "        ridership_data.append(df)\n"
   ]
  },
  {
   "cell_type": "code",
   "execution_count": null,
   "id": "cb5095e9",
   "metadata": {},
   "outputs": [],
   "source": []
  }
 ],
 "metadata": {
  "kernelspec": {
   "display_name": "Python 3 (ipykernel)",
   "language": "python",
   "name": "python3"
  },
  "language_info": {
   "codemirror_mode": {
    "name": "ipython",
    "version": 3
   },
   "file_extension": ".py",
   "mimetype": "text/x-python",
   "name": "python",
   "nbconvert_exporter": "python",
   "pygments_lexer": "ipython3",
   "version": "3.9.13"
  }
 },
 "nbformat": 4,
 "nbformat_minor": 5
}
