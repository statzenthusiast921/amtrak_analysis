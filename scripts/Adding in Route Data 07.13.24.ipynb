{
 "cells": [
  {
   "cell_type": "code",
   "execution_count": 2,
   "id": "accf93c7",
   "metadata": {},
   "outputs": [
    {
     "data": {
      "text/plain": [
       "(33432, 10)"
      ]
     },
     "execution_count": 2,
     "metadata": {},
     "output_type": "execute_result"
    }
   ],
   "source": [
    "import pandas as pd\n",
    "import numpy as np\n",
    "\n",
    "\n",
    "path = '/Users/jonzimmerman/Desktop/Data Projects/Amtrak/data/'\n",
    "amtrak_df = pd.read_csv(path + 'amtrak_df.csv')\n",
    "amtrak_df.shape"
   ]
  },
  {
   "cell_type": "markdown",
   "id": "04605275",
   "metadata": {},
   "source": [
    "### Little cleanup before getting into everything"
   ]
  },
  {
   "cell_type": "markdown",
   "id": "f7c583b6",
   "metadata": {},
   "source": [
    "#### 1.) Fix Tomah, WI coordinates"
   ]
  },
  {
   "cell_type": "code",
   "execution_count": 3,
   "id": "dfaaa1c4",
   "metadata": {},
   "outputs": [],
   "source": [
    "amtrak_df['lat'] = np.where(amtrak_df['abbrev']==\"TOH\",43.985912,amtrak_df['lat'])\n",
    "amtrak_df['lon'] = np.where(amtrak_df['abbrev']==\"TOH\",-90.506204,amtrak_df['lon'])"
   ]
  },
  {
   "cell_type": "markdown",
   "id": "5265b85d",
   "metadata": {},
   "source": [
    "#### 2.) Add route data"
   ]
  },
  {
   "cell_type": "markdown",
   "id": "08d63bc3",
   "metadata": {},
   "source": [
    "https://www.railpassengers.org/resources/ridership-statistics/"
   ]
  },
  {
   "cell_type": "markdown",
   "id": "eeed8da6",
   "metadata": {},
   "source": [
    "### Part 1"
   ]
  },
  {
   "cell_type": "code",
   "execution_count": 4,
   "id": "30ca8626",
   "metadata": {
    "scrolled": true
   },
   "outputs": [],
   "source": [
    "acela = ['Baltimore, MD','BWI Airport','Back Bay','Boston','Metropark','New Carrollton','New Haven','New London','New Rochelle','New York, NY','Newark, NJ','Philadelphia, PA','Providence, RI','Stamford, CT','Trenton, NJ','Washington, DC','Wilmington, DE','Route 128-Westwood, MA']\n",
    "adirondack = ['Albany, NY', 'Croton', 'Fort Edward-Glens Falls, NY', 'Hudson', 'New York, NY', 'Plattsburgh', 'Port Henry', 'Poughkeepsie', 'Rhinecliff', 'Rouses Point', 'St. Lambert', 'Saratoga Springs', 'Schenectady', 'Ticonderoga', 'Westport', 'Whitehall', 'Yonkers']\n",
    "cascades = ['Albany, OR','Bellingham, WA', 'Centralia', 'Edmonds, WA', 'Eugene, OR', 'Everett, WA','Kelso--Longview','Mount Vernon','Olympia','Oregon City', 'Portland','Salem','Seattle','Stanwood','Tacoma','Tukwila','Vancouver']\n",
    "blue_water = ['Battle Creek','Chicago','Dowagiac','Durand', 'East Lansing', 'Flint', 'Kalamazoo', 'Lapeer','New Buffalo', 'Niles','Port Huron']\n",
    "california_zephyr = ['Burlington','Chicago','Colfax','Creston','Davis','Denver','Elko','Emeryville','Fort Morgan','Fraser-Winter Park','Galesburg','Glenwood Springs','Granby','Grand Junction','Green River','Hastings','Helper','Holdrege','Lincoln','Martinez','McCook','Mount Pleasant','Naperville','Omaha','Osceola','Ottumwa','Princeton, IL','Provo','Reno','Roseville','Sacramento','Salt Lake City','Truckee','Winnemucca']\n",
    "\n",
    "# Create regex patterns for each route\n",
    "acela_pattern = '|'.join(acela)\n",
    "adirondack_pattern = '|'.join(adirondack)\n",
    "cascades_pattern = '|'.join(cascades)\n",
    "blue_water_pattern = '|'.join(blue_water)\n",
    "california_zephyr_pattern = '|'.join(california_zephyr)\n",
    "\n",
    "# Apply np.where with correct scalar choices\n",
    "amtrak_df['acela_route'] = np.where(amtrak_df['station_name'].str.contains(acela_pattern, case=False, na=False), 1,0)\n",
    "amtrak_df['adirondack_route'] = np.where(amtrak_df['station_name'].str.contains(adirondack_pattern, case=False, na=False), 1 ,0)\n",
    "amtrak_df['cascades_route'] = np.where(amtrak_df['station_name'].str.contains(cascades_pattern, case=False, na=False), 1 ,0)\n",
    "amtrak_df['blue_water_route'] = np.where(amtrak_df['station_name'].str.contains(blue_water_pattern, case=False, na=False), 1 ,0)\n",
    "amtrak_df['california_zephyr_route'] = np.where(amtrak_df['station_name'].str.contains(california_zephyr_pattern, case=False, na=False), 1 ,0)"
   ]
  },
  {
   "cell_type": "markdown",
   "id": "034ea38c",
   "metadata": {},
   "source": [
    "### Part 2"
   ]
  },
  {
   "cell_type": "code",
   "execution_count": 5,
   "id": "672aba4f",
   "metadata": {},
   "outputs": [],
   "source": [
    "capital_corridor = ['Auburn','Berkeley','Davis','Emeryville','Fairfield','Vacaville','Fremont','Hayward','Martinez','Oakland','Oakland Coliseum','Rocklin','Roseville','Sacramento','San Jose','Santa Clara','Suisun City']\n",
    "capital_limited = ['Alliance','Chicago','Cleveland','Connellsville','Cumberland','Elkhart','Elyria','Harpers Ferry','Martinsburg','Pittsburgh','Rockville','Sandusky','South Bend','Toledo','Washington, DC','Waterloo']\n",
    "cardinal = ['Alderson','Alexandria','Ashland','Baltimore','Charleston','Charlottesville','Chicago','Cincinnati','Clifton Forge','Connersville','Crawfordsville','Culpeper','Dyer','Hinton','Huntington','Indianapolis','Lafayette','Manassas','Maysville','Montgomery','New York','Newark','Philadelphia','Prince','Rensselaer','Portsmouth','Staunton','Thurmond','Trenton','Washington, DC','Sulphur Springs','Wilmington']\n",
    "carl_sandburg = ['Chicago','Galesburg','Kewanee','La Grange','Macomb','Mendota','Naperville','Plano','Princeton, IL','Quincy']\n",
    "carolian = ['Alexandria, VA','Baltimore','Burlington, NC','Cary','Charlotte','Durham','Fredericksburg','Greensboro',\n",
    "            'High Point','Kannapolis','New York','Newark, NJ','NC State Fair','Petersburg','Philadelphia','Quantico',\n",
    "            'Raleigh','Richmond','Rocky Mount','Salisbury','Selma--Smithfield','Trenton','Washington, DC',\n",
    "            'Wilmington, DE','Wilson']\n",
    "\n",
    "\n",
    "capital_corridor_pattern = '|'.join(capital_corridor)\n",
    "capital_limited_pattern = '|'.join(capital_limited)\n",
    "cardinal_pattern = '|'.join(cardinal)\n",
    "carl_sandburg_pattern = '|'.join(carl_sandburg)\n",
    "carolian_pattern = '|'.join(carolian)\n",
    "\n",
    "\n",
    "amtrak_df['capital_corridor_route'] = np.where(amtrak_df['station_name'].str.contains(capital_corridor_pattern, case=False, na=False), 1,0)\n",
    "amtrak_df['capital_limited_route'] = np.where(amtrak_df['station_name'].str.contains(capital_limited_pattern, case=False, na=False), 1,0)\n",
    "amtrak_df['cardinal_route'] = np.where(amtrak_df['station_name'].str.contains(cardinal_pattern, case=False, na=False), 1,0)\n",
    "amtrak_df['carl_sandburg_route'] = np.where(amtrak_df['station_name'].str.contains(carl_sandburg_pattern, case=False, na=False), 1,0)\n",
    "amtrak_df['carolian_route'] = np.where(amtrak_df['station_name'].str.contains(carolian_pattern, case=False, na=False), 1 ,0)"
   ]
  },
  {
   "cell_type": "markdown",
   "id": "74fd3880",
   "metadata": {},
   "source": [
    "### Part 3"
   ]
  },
  {
   "cell_type": "code",
   "execution_count": 6,
   "id": "627a0ede",
   "metadata": {},
   "outputs": [],
   "source": [
    "city_of_new_orleans = ['Brookhaven','Carbondale','Centralia, IL','Champaign','Chicago','Effingham','Fulton','Greenwood','Hammond','Hazlehurst','Homewood','Jackson, MS','Kankakee','Marks','Mattoon','McComb','Memphis','New Orleans','Newbern--Dyersburg','Yazoo City']\n",
    "coast_starlight = ['Albany, OR','Burbank','Centralia, WA','Chemult','Chico','Davis','Dunsmuir','Emeryville','Eugene','Kelso-Longview','Klamath Falls','Los Angeles','Martinez','Oakland','Olympia','Oxnard','Paso Robles','Portland','Redding','Sacramento','Salem','Salinas','San Jose','San Luis Obispo','Santa Barbara','Seattle','Simi Valley','Tacoma','Van Nuys','Vancouver']\n",
    "crescent = ['Alexandria','Anniston','Atlanta','Baltimore','BWI Airport','Birmingham','Charlotte','Charlottesville','Clemson','Culpeper','Danville','Gainesville','Gastonia','Greensboro','Greenville','Hattiesburg','High Point','Laurel','Lynchburg','Manassas','Meridian','Metropark','New Orleans','New York','Newark','Philadelphia','Picayune','Salisbury','Slidell','Spartanburg','Toccoa','Trenton','Tuscaloosa','Washington, DC','Wilmington, DE']\n",
    "downeaster = ['Boston-North','Brunswick','Dover','Durham-UNH','Exeter','Freeport','Haverhill','Old Orchard Beach','Portland','Saco','Wells','Woburn']\n",
    "empire_builder = ['Bingen','White Salmon','Browning','Chicago','Columbus','Cut Bank','Detroit Lakes','Devils Lake','East Glacier','Edmonds','Ephrata','Essex, MT','Everett','Fargo','Glasgow','Glenview','Grand Forks','Havre','La Crosse','Leavenworth','Libby','Malta','Milwaukee','Minot','Pasco','Portage','Portland','Red Wing','Rugby','St. Cloud','St. Paul','Sandpoint','Seattle','Shelby','Spokane','Stanley','Staples','Tomah','Vancouver','Wenatchee','West Glacier','Whitefish','Williston','Winona','Wisconsin Dells','Wishram','Wolf Point']\n",
    "\n",
    "city_of_new_orleans_pattern = '|'.join(city_of_new_orleans)\n",
    "coast_starlight_pattern = '|'.join(coast_starlight)\n",
    "crescent_pattern = '|'.join(crescent)\n",
    "downeaster_pattern = '|'.join(downeaster)\n",
    "empire_builder_pattern = '|'.join(empire_builder)\n",
    "\n",
    "amtrak_df['city_of_new_orleans_route'] = np.where(amtrak_df['station_name'].str.contains(city_of_new_orleans_pattern, case=False, na=False), 1,0)\n",
    "amtrak_df['coast_starlight_route'] = np.where(amtrak_df['station_name'].str.contains(coast_starlight_pattern, case=False, na=False), 1,0)\n",
    "amtrak_df['crescent_route'] = np.where(amtrak_df['station_name'].str.contains(crescent_pattern, case=False, na=False), 1,0)\n",
    "amtrak_df['downeaster_route'] = np.where(amtrak_df['station_name'].str.contains(downeaster_pattern, case=False, na=False), 1,0)\n",
    "amtrak_df['empire_builder_route'] = np.where(amtrak_df['station_name'].str.contains(empire_builder_pattern, case=False, na=False), 1,0)"
   ]
  },
  {
   "cell_type": "markdown",
   "id": "fcaa1604",
   "metadata": {},
   "source": [
    "### Part 4"
   ]
  },
  {
   "cell_type": "code",
   "execution_count": 7,
   "id": "6ccda1e1",
   "metadata": {},
   "outputs": [],
   "source": [
    "ethan_allen = ['Albany, NY','Burlington, VT','Castleton','Croton-Harmon','Fort Edward','Hudson','Middlebury','New York','Poughkeepsie','Rhinecliff','Rutland','Saratoga Springs','Schenectady','Vergennes','Yonkers']\n",
    "heartland_flyer = ['Ardmore, OK','Dallas','Fort Worth','Gainesville','Norman','Oklahoma City','Pauls Valley','Purcell']\n",
    "hiawatha = ['Chicago','Glenview','Milwaukee','Milwaukee Airport','Sturtevant']\n",
    "illini_saluki = ['Carbondale','Centralia, IL','Champaign','Chicago','Du Quoin','Effingham','Gilman','Homewood','Kankakee','Mattoon','Rantoul']\n",
    "keystone = ['Ardmore, PA','Coatesville','Downingtown','Elizabethtown','Exton','Harrisburg',\n",
    "            'Lancaster','Metropark','Middletown','Mount Joy','New Brunswick','New York',\n",
    "            'Newark','Newark-EWR','Paoli','Parkesburg','Philadelphia','Princeton Jct.','Trenton']\n",
    "\n",
    "ethan_allen_pattern = '|'.join(ethan_allen)\n",
    "heartland_flyer_pattern = '|'.join(heartland_flyer)\n",
    "hiawatha_pattern = '|'.join(hiawatha)\n",
    "illini_saluki_pattern = '|'.join(illini_saluki)\n",
    "keystone_pattern = '|'.join(keystone)\n",
    "\n",
    "\n",
    "amtrak_df['ethan_allen_route'] = np.where(amtrak_df['station_name'].str.contains(ethan_allen_pattern, case=False, na=False), 1,0)\n",
    "amtrak_df['heartland_flyer_route'] = np.where(amtrak_df['station_name'].str.contains(heartland_flyer_pattern, case=False, na=False), 1,0)\n",
    "amtrak_df['hiawatha_route'] = np.where(amtrak_df['station_name'].str.contains(hiawatha_pattern, case=False, na=False), 1,0)\n",
    "amtrak_df['illini_saluki_route'] = np.where(amtrak_df['station_name'].str.contains(illini_saluki_pattern, case=False, na=False), 1,0)\n",
    "amtrak_df['keystone_route'] = np.where(amtrak_df['station_name'].str.contains(keystone_pattern, case=False, na=False), 1,0)"
   ]
  },
  {
   "cell_type": "markdown",
   "id": "a59ecb16",
   "metadata": {},
   "source": [
    "### Part 5"
   ]
  },
  {
   "cell_type": "code",
   "execution_count": 32,
   "id": "85f093bf",
   "metadata": {},
   "outputs": [],
   "source": [
    "lake_shore_limited = ['Albany, NY','Back Bay','Boston','Bryan','Buffalo','Chicago','Cleveland','Croton','Elkhart','Elyria','Erie','Framingham','New York','Pittsfield','Poughkeepsie','Rhinecliff','Rochester','Sandusky','Schenectady','South Bend','Springfield','Syracuse','Toledo','Utica','Waterloo','Worcester']\n",
    "lincoln = ['Alton','Normal','Carlinville','Chicago','Dwight','Joliet','Lincoln, IL','Pontiac, IL','St. Louis','Springfield, IL','Summit, IL']\n",
    "maple_leaf = ['Albany, NY','Amsterdam','Buffalo-Exchange St., NY','Buffalo-Depew, NY','Canada-US border','Croton','Hudson, NY','New York','NY State Fair','Niagara','Poughkeepsie','Rhinecliff','Rochester','Rome','Schenectady','Syracuse','Toronto','Utica','Yonkers']\n",
    "missouri_river_runner = ['Alton','Normal','Chicago','Hermann','Independence','Jefferson City','Joliet','Kansas City','Kirkwood','Lees Summit','St. Louis','Sedalia','Springfield, MO','Summit, MO','Warrensburg','Washington, MO']\n",
    "ne_regional = ['Aberdeen','Baltimore','BWI Airport','Back Bay','Boston','Bridgeport','Cornwells Hgts','West Kingston','Metropark','Mystic','New Brunswick','New Carrollton','New Haven','New London','New Rochelle','New York','Newark, DE','Newark, NJ','Newark-EWR','Old Saybrook','Philadelphia','N. Philadelphia','Princeton Jct.','Providence','Route 128','Stamford','Trenton','Washington, DC','Westerly','Wilmington']\n",
    "\n",
    "\n",
    "lake_shore_limited_pattern = '|'.join(lake_shore_limited)\n",
    "lincoln_pattern = '|'.join(lincoln)\n",
    "maple_leaf_pattern = '|'.join(maple_leaf)\n",
    "missouri_river_runner_pattern = '|'.join(missouri_river_runner)\n",
    "ne_regional_pattern = '|'.join(ne_regional)\n",
    "\n",
    "amtrak_df['lake_shore_route'] = np.where(amtrak_df['station_name'].str.contains(lake_shore_limited_pattern, case=False, na=False), 1,0)\n",
    "amtrak_df['lincoln_route'] = np.where(amtrak_df['station_name'].str.contains(lincoln_pattern, case=False, na=False), 1,0)\n",
    "amtrak_df['maple_leaf_route'] = np.where(amtrak_df['station_name'].str.contains(maple_leaf_pattern, case=False, na=False), 1,0)\n",
    "amtrak_df['missouri_river_runner_route'] = np.where(amtrak_df['station_name'].str.contains(missouri_river_runner_pattern, case=False, na=False), 1,0)\n",
    "amtrak_df['ne_regional_route'] = np.where(amtrak_df['station_name'].str.contains(ne_regional_pattern, case=False, na=False), 1,0)"
   ]
  },
  {
   "cell_type": "markdown",
   "id": "6fc995c1",
   "metadata": {},
   "source": [
    "### Part 6"
   ]
  },
  {
   "cell_type": "code",
   "execution_count": 47,
   "id": "821e1603",
   "metadata": {},
   "outputs": [],
   "source": [
    "pacific_surliner = ['Anaheim','Burbank','Camarillo','Carpinteria','Chatsworth','Fullerton','Glendale','Goleta','Grover Beach','Guadalupe','Irvine','Los Angeles','Moorpark','Northridge','Oceanside','Oxnard','San Clemente','San Diego','SD Old Town','S.J. Capistrano','San Luis Obispo','Santa Ana','Santa Barbara','Simi Valley','Solana Beach','Surf','Van Nuys','Ventura','Lompoc']\n",
    "palmetto = ['Alexandria','Baltimore','BWI Airport','North Charleston','Dillon','Fayetteville','Florence','Kingstree','Metropark','New Brunswick','New Carrollton','New York','Newark','Petersburg','Philadelphia','Princeton Jct.','Richmond','Rocky Mount','Savannah','Selma','Smithfield','Trenton','Washington, DC','Wilmington','Wilson','Yemassee']\n",
    "pennsylvanian = ['Altoona','Elizabethtown','Exton','Greensburg','Harrisburg','Huntingdon','Johnstown','Lancaster','Latrobe','Lewistown','New York','Newark','Paoli','Philadelphia','Pittsburgh','Trenton','Tyrone']\n",
    "pere_marquette = ['Bangor','Chicago','Grand Rapids','Holland','St. Joseph']\n",
    "piedmont = ['Burlington, NC','Cary','Charlotte','Durham, NC','Greensboro','High Point','Kannapolis','Lexington','State Fair','Raleigh','Salisbury']\n",
    "\n",
    "pacific_surliner_pattern = '|'.join(pacific_surliner)\n",
    "palmetto_pattern = '|'.join(palmetto)\n",
    "pennsylvanian_pattern = '|'.join(pennsylvanian)\n",
    "pere_marquette_pattern = '|'.join(pere_marquette)\n",
    "piedmont_pattern = '|'.join(piedmont)\n",
    "\n",
    "amtrak_df['pacific_surliner_route'] = np.where(amtrak_df['station_name'].str.contains(pacific_surliner_pattern, case=False, na=False), 1,0)\n",
    "amtrak_df['palmetto_route'] = np.where(amtrak_df['station_name'].str.contains(palmetto_pattern, case=False, na=False), 1,0)\n",
    "amtrak_df['pennsylvanian_route'] = np.where(amtrak_df['station_name'].str.contains(pennsylvanian_pattern, case=False, na=False), 1,0)\n",
    "amtrak_df['pere_marquette_route'] = np.where(amtrak_df['station_name'].str.contains(pere_marquette_pattern, case=False, na=False), 1,0)\n",
    "amtrak_df['piedmont_route'] = np.where(amtrak_df['station_name'].str.contains(piedmont_pattern, case=False, na=False), 1,0)"
   ]
  },
  {
   "cell_type": "markdown",
   "id": "ac6cac25",
   "metadata": {},
   "source": [
    "### Part 7"
   ]
  },
  {
   "cell_type": "code",
   "execution_count": 85,
   "id": "175e6b5f",
   "metadata": {},
   "outputs": [],
   "source": [
    "san_joaquins = ['Antioch','Bakersfield','Allensw','Corcoran','Emeryville','Fresno','Hanford','Lodi','Madera','Martinez','Merced','Modesto','Oakland, CA','Richmond','Sacramento','Stockton','Turlock','Wasco']\n",
    "silver_meteor = ['Alexandria','Baltimore','North Charleston','Deerfield Beach','DeLand','Delray Beach','Fayetteville','Florence','Fort Lauderdale','Fredericksburg','Hollywood','Jacksonville','Jesup','Kingstree','Kissimmee','Miami','New York','Newark, NJ','Orlando','Palatka','Petersburg','Philadelphia','Richmond','Rocky Mount','Savannah','Sebring','Trenton','Washington, DC','West Palm Beach','Wilmington','Winter Haven','Winter Park, FL','Yemassee']\n",
    "southwest_chief = ['Albuquerque','Barstow','Chicago','Dodge City','Flagstaff','Fort Madison','Fullerton','Galesburg','Gallup','Garden City','Hutchinson','Kansas City','Kingman','La Junta','La Plata','Lamar','Lamy','Las Vegas','Lawrence','Los Angeles','Mendota','Naperville','Needles','Newton','Princeton, IL','Raton','Riverside','San Bernardino','Topeka','Trinidad','Victorville','Winslow']\n",
    "sunset_limited = ['Alpine','Beaumont','Benson','Del Rio','Deming','El Paso','Houston','Lafayette, LA','Lake Charles','Lordsburg','Los Angeles','Maricopa','New Iberia','New Orleans','Ontario','Palm Springs','Pomona','San Antonio','Sanderson','Schriever','Tucson','Yuma']\n",
    "wolverine = ['Albion','Ann Arbor','Battle Creek','Chicago','Dearborn','Detroit, MI','Dowagiac','Hammond, IL',\n",
    "             'Jackson, MI','Kalamazoo','Michigan City','New Buffalo','Niles','Pontiac','Royal Oak','Troy']\n",
    "\n",
    "\n",
    "san_joaquins_pattern = '|'.join(san_joaquins)\n",
    "silver_meteor_pattern = '|'.join(silver_meteor)\n",
    "southwest_chief_pattern = '|'.join(southwest_chief)\n",
    "sunset_limited_pattern = '|'.join(sunset_limited)\n",
    "wolverine_pattern = '|'.join(wolverine)\n",
    "\n",
    "amtrak_df['san_joaquins_route'] = np.where(amtrak_df['station_name'].str.contains(san_joaquins_pattern, case=False, na=False), 1,0)\n",
    "amtrak_df['silver_meteor_route'] = np.where(amtrak_df['station_name'].str.contains(silver_meteor_pattern, case=False, na=False), 1,0)\n",
    "amtrak_df['southwest_chief_route'] = np.where(amtrak_df['station_name'].str.contains(southwest_chief_pattern, case=False, na=False), 1,0)\n",
    "amtrak_df['sunset_limited_route'] = np.where(amtrak_df['station_name'].str.contains(sunset_limited_pattern, case=False, na=False), 1,0)\n",
    "amtrak_df['wolverine_route'] = np.where(amtrak_df['station_name'].str.contains(wolverine_pattern, case=False, na=False), 1,0)"
   ]
  },
  {
   "cell_type": "markdown",
   "id": "edc10f20",
   "metadata": {},
   "source": [
    "### Inspect each route to make sure correct stations are captured"
   ]
  },
  {
   "cell_type": "code",
   "execution_count": 86,
   "id": "c99225c4",
   "metadata": {
    "scrolled": true
   },
   "outputs": [
    {
     "data": {
      "text/html": [
       "<div>\n",
       "<style scoped>\n",
       "    .dataframe tbody tr th:only-of-type {\n",
       "        vertical-align: middle;\n",
       "    }\n",
       "\n",
       "    .dataframe tbody tr th {\n",
       "        vertical-align: top;\n",
       "    }\n",
       "\n",
       "    .dataframe thead th {\n",
       "        text-align: right;\n",
       "    }\n",
       "</style>\n",
       "<table border=\"1\" class=\"dataframe\">\n",
       "  <thead>\n",
       "    <tr style=\"text-align: right;\">\n",
       "      <th></th>\n",
       "      <th>state</th>\n",
       "      <th>station_name</th>\n",
       "    </tr>\n",
       "  </thead>\n",
       "  <tbody>\n",
       "    <tr>\n",
       "      <th>22932</th>\n",
       "      <td>IL</td>\n",
       "      <td>Pontiac, IL</td>\n",
       "    </tr>\n",
       "    <tr>\n",
       "      <th>32676</th>\n",
       "      <td>IL</td>\n",
       "      <td>Chicago, IL</td>\n",
       "    </tr>\n",
       "    <tr>\n",
       "      <th>1848</th>\n",
       "      <td>MI</td>\n",
       "      <td>Battle Creek, MI</td>\n",
       "    </tr>\n",
       "    <tr>\n",
       "      <th>6132</th>\n",
       "      <td>MI</td>\n",
       "      <td>Dearborn, MI</td>\n",
       "    </tr>\n",
       "    <tr>\n",
       "      <th>6888</th>\n",
       "      <td>MI</td>\n",
       "      <td>Detroit, MI</td>\n",
       "    </tr>\n",
       "    <tr>\n",
       "      <th>13776</th>\n",
       "      <td>MI</td>\n",
       "      <td>Jackson, MI</td>\n",
       "    </tr>\n",
       "    <tr>\n",
       "      <th>14364</th>\n",
       "      <td>MI</td>\n",
       "      <td>Kalamazoo, MI</td>\n",
       "    </tr>\n",
       "    <tr>\n",
       "      <th>19740</th>\n",
       "      <td>MI</td>\n",
       "      <td>New Buffalo, MI</td>\n",
       "    </tr>\n",
       "    <tr>\n",
       "      <th>20664</th>\n",
       "      <td>MI</td>\n",
       "      <td>Niles, MI</td>\n",
       "    </tr>\n",
       "    <tr>\n",
       "      <th>23016</th>\n",
       "      <td>MI</td>\n",
       "      <td>Pontiac, MI</td>\n",
       "    </tr>\n",
       "    <tr>\n",
       "      <th>24696</th>\n",
       "      <td>MI</td>\n",
       "      <td>Royal Oak, MI</td>\n",
       "    </tr>\n",
       "    <tr>\n",
       "      <th>29232</th>\n",
       "      <td>MI</td>\n",
       "      <td>Troy, MI</td>\n",
       "    </tr>\n",
       "  </tbody>\n",
       "</table>\n",
       "</div>"
      ],
      "text/plain": [
       "      state      station_name\n",
       "22932    IL       Pontiac, IL\n",
       "32676    IL       Chicago, IL\n",
       "1848     MI  Battle Creek, MI\n",
       "6132     MI      Dearborn, MI\n",
       "6888     MI       Detroit, MI\n",
       "13776    MI       Jackson, MI\n",
       "14364    MI     Kalamazoo, MI\n",
       "19740    MI   New Buffalo, MI\n",
       "20664    MI         Niles, MI\n",
       "23016    MI       Pontiac, MI\n",
       "24696    MI     Royal Oak, MI\n",
       "29232    MI          Troy, MI"
      ]
     },
     "execution_count": 86,
     "metadata": {},
     "output_type": "execute_result"
    }
   ],
   "source": [
    "inspect = amtrak_df[amtrak_df['wolverine_route']==1]\n",
    "inspect[['state','station_name']].drop_duplicates().sort_values(by = 'state')\n",
    "#inspect[['station_name']].unique().tolist()"
   ]
  },
  {
   "cell_type": "code",
   "execution_count": 50,
   "id": "00a3fd53",
   "metadata": {
    "scrolled": true
   },
   "outputs": [
    {
     "data": {
      "text/plain": [
       "['Fairfield-Vacaville, CA', 'Suisun City-Fairfield, CA']"
      ]
     },
     "execution_count": 50,
     "metadata": {},
     "output_type": "execute_result"
    }
   ],
   "source": [
    "test = amtrak_df[amtrak_df['station_name'].str.contains(\"Fair\")]\n",
    "test['station_name'].unique().tolist()"
   ]
  },
  {
   "cell_type": "code",
   "execution_count": null,
   "id": "f9cb81a1",
   "metadata": {},
   "outputs": [],
   "source": []
  }
 ],
 "metadata": {
  "kernelspec": {
   "display_name": "Python 3 (ipykernel)",
   "language": "python",
   "name": "python3"
  },
  "language_info": {
   "codemirror_mode": {
    "name": "ipython",
    "version": 3
   },
   "file_extension": ".py",
   "mimetype": "text/x-python",
   "name": "python",
   "nbconvert_exporter": "python",
   "pygments_lexer": "ipython3",
   "version": "3.9.13"
  }
 },
 "nbformat": 4,
 "nbformat_minor": 5
}
